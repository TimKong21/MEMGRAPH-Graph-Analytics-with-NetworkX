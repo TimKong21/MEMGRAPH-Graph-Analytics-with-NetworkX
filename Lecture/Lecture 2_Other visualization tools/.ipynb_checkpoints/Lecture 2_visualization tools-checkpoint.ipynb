{
 "cells": [
  {
   "cell_type": "markdown",
   "id": "4a946c79",
   "metadata": {},
   "source": [
    "# Common visualization tools"
   ]
  },
  {
   "cell_type": "markdown",
   "id": "3f58c095",
   "metadata": {},
   "source": [
    "## Import neceessary modules"
   ]
  },
  {
   "cell_type": "code",
   "execution_count": null,
   "id": "4abc4b0d",
   "metadata": {},
   "outputs": [],
   "source": [
    "import networkx as nx\n",
    "import matplotlib.pyplot as plt\n",
    "import pandas as pd\n",
    "import numpy as np"
   ]
  },
  {
   "cell_type": "markdown",
   "id": "0deea8c7",
   "metadata": {},
   "source": [
    "## Import and export graphs "
   ]
  },
  {
   "cell_type": "markdown",
   "id": "67714975",
   "metadata": {},
   "source": [
    "### 1a. Export graph to a path with specfic format "
   ]
  },
  {
   "cell_type": "code",
   "execution_count": null,
   "id": "58980f5c",
   "metadata": {},
   "outputs": [],
   "source": [
    "G = nx.karate_club_graph() # graph generator\n",
    "nx.write_adjlist(G, \"graph.adjlist\")  #essentially an array of numvbers which vertices size = array size \n",
    "\n",
    "nx.draw(G)\n",
    "plt.show()"
   ]
  },
  {
   "cell_type": "markdown",
   "id": "de487a2e",
   "metadata": {},
   "source": [
    "### 1b. Import graph from a path with specfic format"
   ]
  },
  {
   "cell_type": "code",
   "execution_count": null,
   "id": "8a3e213b",
   "metadata": {},
   "outputs": [],
   "source": [
    "G = nx.read_adjlist(\"graph.adjlist\") \n",
    "\n",
    "nx.draw(G)\n",
    "plt.show()"
   ]
  },
  {
   "cell_type": "markdown",
   "id": "4f794e95",
   "metadata": {},
   "source": [
    "### 2. Import graph from `.csv`"
   ]
  },
  {
   "cell_type": "code",
   "execution_count": null,
   "id": "bec3c6c3",
   "metadata": {},
   "outputs": [],
   "source": [
    "Graphtype = nx.Graph()\n",
    "\n",
    "df = pd.read_csv('https://raw.githubusercontent.com/memgraph/graph-analytics-course/master/lecture-2/import-export/graph.csv')# raw data from git hub \n",
    "\n",
    "G = nx.from_pandas_edgelist(df, create_using=Graphtype)\n",
    "\n",
    "nx.draw(G)\n",
    "plt.show()  "
   ]
  },
  {
   "cell_type": "markdown",
   "id": "4c36da20",
   "metadata": {},
   "source": [
    "### 3. Import graph from `.graphml` and export as `.gpickle`"
   ]
  },
  {
   "cell_type": "code",
   "execution_count": null,
   "id": "d159a6b0",
   "metadata": {},
   "outputs": [],
   "source": [
    "G = nx.read_graphml('graph.graphml.txt')\n",
    "\n",
    "nx.write_gpickle(G, 'graph.gpickle')\n",
    "G_imported = nx.read_gpickle('graph.gpickle')\n",
    "\n",
    "nx.draw(G, with_labels=True)\n",
    "plt.show()"
   ]
  },
  {
   "cell_type": "markdown",
   "id": "3b5f925a",
   "metadata": {},
   "source": [
    "## Visualization with  matplotlib"
   ]
  },
  {
   "cell_type": "markdown",
   "id": "d3be42d5",
   "metadata": {},
   "source": [
    "### Dodecadedral graph"
   ]
  },
  {
   "cell_type": "code",
   "execution_count": null,
   "id": "03f0d9e4",
   "metadata": {},
   "outputs": [],
   "source": [
    "G = nx.dodecahedral_graph()\n",
    "\n",
    "nx.draw(G)\n",
    "plt.show()\n",
    "\n",
    "# This will draw a graph with the same layout (spring layout is the default one)\n",
    "nx.draw(G, pos=nx.spring_layout(G))\n",
    "plt.show()"
   ]
  },
  {
   "cell_type": "markdown",
   "id": "28f0793c",
   "metadata": {},
   "source": [
    "### Directed graph"
   ]
  },
  {
   "cell_type": "code",
   "execution_count": null,
   "id": "70a22191",
   "metadata": {},
   "outputs": [],
   "source": [
    "# Importing graphs from a file\n",
    "G = nx.read_graphml('graph.graphml.txt')\n",
    "\n",
    "# Draw a directed graph\n",
    "nx.draw(G)\n",
    "plt.show()"
   ]
  },
  {
   "cell_type": "markdown",
   "id": "9b92fbf4",
   "metadata": {},
   "source": [
    "### Undirected graph (removed from directed)"
   ]
  },
  {
   "cell_type": "code",
   "execution_count": null,
   "id": "f8431a67",
   "metadata": {},
   "outputs": [],
   "source": [
    "# Importing graphs from a file\n",
    "G = nx.read_graphml('graph.graphml.txt')\n",
    "\n",
    "# Draw a directed graph\n",
    "nx.draw(G, arrows=False)\n",
    "plt.show()"
   ]
  },
  {
   "cell_type": "markdown",
   "id": "dd38a211",
   "metadata": {},
   "source": [
    "### Directed graph with labels - only numbers shown in label "
   ]
  },
  {
   "cell_type": "code",
   "execution_count": null,
   "id": "513c9f7a",
   "metadata": {},
   "outputs": [],
   "source": [
    "# Importing graphs from a file\n",
    "G = nx.read_graphml('graph.graphml.txt')\n",
    "\n",
    "# Draw a directed graph\n",
    "nx.draw(G, with_labels=True)\n",
    "plt.show()"
   ]
  },
  {
   "cell_type": "markdown",
   "id": "f7c70415",
   "metadata": {},
   "source": [
    "### Directed graph with custom node labels"
   ]
  },
  {
   "cell_type": "code",
   "execution_count": null,
   "id": "70c0adf3",
   "metadata": {},
   "outputs": [],
   "source": [
    "# Importing graphs from a file\n",
    "G = nx.read_graphml('graph.graphml.txt')\n",
    "\n",
    "# Draw with custom node labels\n",
    "pos=nx.spring_layout(G)\n",
    "nx.draw(G, pos)\n",
    "\n",
    "node_labels = nx.get_node_attributes(G,'label')\n",
    "nx.draw_networkx_labels(G, pos, labels = node_labels)\n",
    "\n",
    "plt.show()"
   ]
  },
  {
   "cell_type": "markdown",
   "id": "243b2668",
   "metadata": {},
   "source": [
    "### Directed graph with custom edge labels"
   ]
  },
  {
   "cell_type": "code",
   "execution_count": null,
   "id": "b7f9d9a9",
   "metadata": {},
   "outputs": [],
   "source": [
    "# Importing graphs from a file\n",
    "G = nx.read_graphml('graph.graphml.txt')\n",
    "\n",
    "# Draw with custom edge labels\n",
    "pos=nx.spring_layout(G)\n",
    "print(G.edges(data=True))\n",
    "nx.draw(G, pos)\n",
    "\n",
    "edge_labels = nx.get_edge_attributes(G,'type')\n",
    "nx.draw_networkx_edge_labels(G, pos, edge_labels = edge_labels)\n",
    "\n",
    "plt.show()"
   ]
  },
  {
   "cell_type": "markdown",
   "id": "870c69b0-9339-41b2-9576-8904344ec937",
   "metadata": {},
   "source": [
    "### Directed graph with custom node and eddge colors "
   ]
  },
  {
   "cell_type": "code",
   "execution_count": null,
   "id": "e5b871fa-081e-4c48-ae08-03e7005c221d",
   "metadata": {},
   "outputs": [],
   "source": [
    "# Importing graphs from a file\n",
    "G = nx.read_gexf('graph.gexf.txt')\n",
    "\n",
    "# all noddes the same color \n",
    "nx.draw(G,\n",
    "        node_size=30,\n",
    "        node_color='C1')\n",
    "\n",
    "plt.show()\n",
    "\n",
    "# Defining the node colors for each nodes \n",
    "colors = np.linspace(0, 1, len(G.nodes))\n",
    "\n",
    "layout = nx.spiral_layout(G)\n",
    "\n",
    "nx.draw(G,\n",
    "        node_size=30,\n",
    "        node_color=colors,\n",
    "        pos=layout,\n",
    "        edge_color='g')\n",
    "\n",
    "plt.show()"
   ]
  },
  {
   "cell_type": "markdown",
   "id": "1cafa467-c102-4510-94cb-daa069e1b6a5",
   "metadata": {},
   "source": [
    "### Complete bipartite graph - comparing `nx.draw()` vs `nx.draw_network()`"
   ]
  },
  {
   "cell_type": "code",
   "execution_count": null,
   "id": "f28fc12e-4e09-45bd-a9a8-d43e1584e56f",
   "metadata": {},
   "outputs": [],
   "source": [
    "K33 = nx.complete_bipartite_graph(3,3)\n",
    "\n",
    "# Visualize the graph with the draw() method\n",
    "nx.draw(K33)\n",
    "plt.show()\n",
    "\n",
    "# Visualize the graph with the draw_networkx() method\n",
    "nx.draw_networkx(K33)\n",
    "plt.show()"
   ]
  },
  {
   "cell_type": "markdown",
   "id": "2bab36b0-2b03-47c3-8a08-0adba331f795",
   "metadata": {},
   "source": [
    "### Complete bipartite graph with custom positions"
   ]
  },
  {
   "cell_type": "code",
   "execution_count": null,
   "id": "5f1387d6-fb1c-42f8-90a2-7d8e59481636",
   "metadata": {},
   "outputs": [],
   "source": [
    "K33 = nx.complete_bipartite_graph(3,3)\n",
    "\n",
    "positions = {0:[-1,1], 1:[0,1], 2:[1,1], 3:[-1,-1], 4:[0,-1], 5:[1,-1]}\n",
    "nx.draw_networkx(K33, positions)\n",
    "plt.show()"
   ]
  },
  {
   "cell_type": "markdown",
   "id": "cfa4fac2-72e3-44fe-9d6f-6a0aab5870ca",
   "metadata": {},
   "source": [
    "### Complete bipartite graph with custom options"
   ]
  },
  {
   "cell_type": "code",
   "execution_count": null,
   "id": "aaa0075b-5c5b-4b1d-a21d-9f2a03aabdf2",
   "metadata": {},
   "outputs": [],
   "source": [
    "K33 = nx.complete_bipartite_graph(3,3)\n",
    "\n",
    "positions = {0:[-1,1], 1:[0,1], 2:[1,1], 3:[-1,-1], 4:[0,-1], 5:[1,-1]}\n",
    "options = {'node_size' : 100, 'node_color' : 'k'}\n",
    "nx.draw_networkx(K33, positions, with_labels=False, **options)\n",
    "plt.show()"
   ]
  },
  {
   "cell_type": "markdown",
   "id": "c72152fb-a42d-4712-8dbc-cdae38f985f1",
   "metadata": {},
   "source": [
    "## Visualization with GraphViz"
   ]
  },
  {
   "cell_type": "code",
   "execution_count": 1,
   "id": "f9ad0794-c8ad-4e83-afcd-83e378ffd1a4",
   "metadata": {},
   "outputs": [],
   "source": [
    "import networkx as nx\n",
    "from networkx.drawing.nx_agraph import to_agraph"
   ]
  },
  {
   "cell_type": "markdown",
   "id": "9e3cf700-2d4c-4b06-bbfa-b983a062a4b9",
   "metadata": {},
   "source": [
    "### Simple graph with GraphViz"
   ]
  },
  {
   "cell_type": "code",
   "execution_count": null,
   "id": "d6dd9da7-f377-4ea2-9bb2-e71dd0f94d0d",
   "metadata": {
    "scrolled": true,
    "tags": []
   },
   "outputs": [],
   "source": [
    "G = nx.read_gexf('graph.gexf.txt')\n",
    "\n",
    "A = to_agraph(G)\n",
    "print(A)\n",
    "A.layout('dot')\n",
    "A.draw('graphviz-schema-1.png') #export graph"
   ]
  },
  {
   "cell_type": "markdown",
   "id": "ab2b2525-b42b-448f-b3c0-ca06ce727d22",
   "metadata": {},
   "source": [
    "### Node and edge attributes in GraphViz"
   ]
  },
  {
   "cell_type": "markdown",
   "id": "eaa82fb5-a96b-4960-b01e-5e48d6ab38bd",
   "metadata": {},
   "source": [
    "Original node and edge attributes"
   ]
  },
  {
   "cell_type": "code",
   "execution_count": 14,
   "id": "310255fa-19c9-4a8f-bc3e-c0d6c09dc881",
   "metadata": {},
   "outputs": [
    {
     "name": "stdout",
     "output_type": "stream",
     "text": [
      "node attributes\n",
      "node 1: {'name': 'John Doe', 'age': 40, 'label': 'Person'}\n",
      "node 2: {'name': 'Visa', 'compromised': False, 'label': 'CreditCard'}\n",
      "node 3: {'name': 'Walmart', 'label': 'Store'}\n",
      "node 4: {'name': 'Grocery store', 'label': 'Category'}\n",
      "node 5: {'compromised': False, 'label': 'Pos'}\n",
      "node 6: {'fraudReported': False, 'label': 'Transaction'}\n",
      "node 22: {'username': 'john_doe', 'platform': 'Facebook', 'followers': 2000, 'label': 'SocialMedia'}\n",
      "\n",
      "edge attributes\n",
      "edge ('1', '2'): {'id': '0'}\n",
      "edge ('1', '22'): {'id': '1'}\n",
      "edge ('2', '6'): {'id': '2'}\n",
      "edge ('3', '4'): {'id': '3'}\n",
      "edge ('3', '5'): {'id': '4'}\n",
      "edge ('6', '5'): {'id': '5'}\n",
      "\n",
      "graph attributes\n"
     ]
    },
    {
     "data": {
      "text/plain": [
       "{'mode': 'static', 'node_default': {}, 'edge_default': {}}"
      ]
     },
     "execution_count": 14,
     "metadata": {},
     "output_type": "execute_result"
    }
   ],
   "source": [
    "G = nx.read_gexf('graph.gexf.txt') \n",
    "print(\"node attributes\")\n",
    "for node_id in G.nodes:\n",
    "    print(\"node {0}: {1}\".format(node_id, G.nodes[node_id]))\n",
    "    \n",
    "print(\"\\nedge attributes\")\n",
    "for edge_id in G.edges:\n",
    "    print(\"edge {0}: {1}\".format(edge_id, G.edges[edge_id])) \n",
    "\n",
    "print(\"\\ngraph attributes\")\n",
    "G.graph"
   ]
  },
  {
   "cell_type": "markdown",
   "id": "a36aa550-6dad-4537-adc7-efeb16ce11c5",
   "metadata": {},
   "source": [
    "add new node attriburtes - add colors to nodes"
   ]
  },
  {
   "cell_type": "code",
   "execution_count": 15,
   "id": "79c6266a-c7ae-44ef-ae2a-3cddd825d88e",
   "metadata": {},
   "outputs": [
    {
     "name": "stdout",
     "output_type": "stream",
     "text": [
      "node 1: {'name': 'John Doe', 'age': 40, 'label': 'Person', 'style': 'filled', 'fillcolor': 'red'}\n",
      "node 2: {'name': 'Visa', 'compromised': False, 'label': 'CreditCard'}\n",
      "node 3: {'name': 'Walmart', 'label': 'Store', 'style': 'filled', 'fillcolor': 'orange'}\n",
      "node 4: {'name': 'Grocery store', 'label': 'Category'}\n",
      "node 5: {'compromised': False, 'label': 'Pos'}\n",
      "node 6: {'fraudReported': False, 'label': 'Transaction'}\n",
      "node 22: {'username': 'john_doe', 'platform': 'Facebook', 'followers': 2000, 'label': 'SocialMedia'}\n"
     ]
    }
   ],
   "source": [
    "def add_attribute_to_nodes(key, value, node_label):\n",
    "    for node_id in G.nodes:\n",
    "        # match the label(attr) name of node in order to add new attr to that specfic node\n",
    "        if(G.nodes[node_id]['label'] == node_label):\n",
    "            G.nodes[node_id][key] = value\n",
    "\n",
    "add_attribute_to_nodes('style', 'filled', 'Person') #add attributes to node 1 \n",
    "add_attribute_to_nodes('fillcolor', 'red', 'Person') #add another attributes to node 1 \n",
    "add_attribute_to_nodes('style', 'filled', 'Store') #add attributes to node 3\n",
    "add_attribute_to_nodes('fillcolor', 'orange', 'Store') #add another attributes to node 3\n",
    "\n",
    "for node_id in G.nodes:\n",
    "    print(\"node {0}: {1}\".format(node_id, G.nodes[node_id]))"
   ]
  },
  {
   "cell_type": "markdown",
   "id": "a6c64e8a-bc11-4782-801c-025b311c3979",
   "metadata": {},
   "source": [
    "add new edge attributes - add colors to edges"
   ]
  },
  {
   "cell_type": "code",
   "execution_count": 16,
   "id": "08d4e475-b0fa-4e84-a318-b2e8d35957cb",
   "metadata": {},
   "outputs": [
    {
     "name": "stdout",
     "output_type": "stream",
     "text": [
      "edge ('1', '2'): {'id': '0', 'color': 'purple', 'arrowsize': 2.0, 'penwidth': 2.0}\n",
      "edge ('1', '22'): {'id': '1'}\n",
      "edge ('2', '6'): {'id': '2'}\n",
      "edge ('3', '4'): {'id': '3'}\n",
      "edge ('3', '5'): {'id': '4'}\n",
      "edge ('6', '5'): {'id': '5'}\n"
     ]
    }
   ],
   "source": [
    "# add new edge attributes to first edge\n",
    "G.edges['1', '2']['color'] = 'purple'\n",
    "G.edges['1', '2']['arrowsize'] = 2.0\n",
    "G.edges['1', '2']['penwidth'] = 2.0\n",
    "\n",
    "for edge_id in G.edges:\n",
    "    print(\"edge {0}: {1}\".format(edge_id, G.edges[edge_id])) "
   ]
  },
  {
   "cell_type": "markdown",
   "id": "5fc04d5d-b26d-4a0e-9429-68dac56b7ac4",
   "metadata": {},
   "source": [
    "add new graph attributes - add directions, shape, arrow size"
   ]
  },
  {
   "cell_type": "code",
   "execution_count": 17,
   "id": "9875d321-82b3-4b76-80dc-bd1d69f02978",
   "metadata": {},
   "outputs": [
    {
     "data": {
      "text/plain": [
       "{'mode': 'static',\n",
       " 'node_default': {},\n",
       " 'edge_default': {},\n",
       " 'graph': {'rankdir': 'LR'},\n",
       " 'node': {'shape': 'circle'},\n",
       " 'edges': {'arrowsize': '4.0'}}"
      ]
     },
     "execution_count": 17,
     "metadata": {},
     "output_type": "execute_result"
    }
   ],
   "source": [
    "G.graph['graph'] = {'rankdir': 'LR'}\n",
    "G.graph['node'] = {'shape': 'circle'}\n",
    "G.graph['edges'] = {'arrowsize': '4.0'}\n",
    "\n",
    "G.graph"
   ]
  },
  {
   "cell_type": "markdown",
   "id": "65b83771-2b43-4c6a-83d4-c1514cc3356d",
   "metadata": {},
   "source": [
    "export graph with specfic format"
   ]
  },
  {
   "cell_type": "code",
   "execution_count": 18,
   "id": "5bd78625-fa12-4d73-9079-890997adbb9a",
   "metadata": {
    "scrolled": true,
    "tags": []
   },
   "outputs": [
    {
     "name": "stdout",
     "output_type": "stream",
     "text": [
      "strict digraph \"\" {\n",
      "\tgraph [edge_default=\"{}\",\n",
      "\t\tedges=\"{'arrowsize': '4.0'}\",\n",
      "\t\tmode=static,\n",
      "\t\tnode_default=\"{}\",\n",
      "\t\trankdir=LR\n",
      "\t];\n",
      "\tnode [label=\"\\N\",\n",
      "\t\tshape=circle\n",
      "\t];\n",
      "\t1\t[age=40,\n",
      "\t\tfillcolor=red,\n",
      "\t\tlabel=Person,\n",
      "\t\tname=\"John Doe\",\n",
      "\t\tstyle=filled];\n",
      "\t2\t[compromised=False,\n",
      "\t\tlabel=CreditCard,\n",
      "\t\tname=Visa];\n",
      "\t1 -> 2\t[arrowsize=2.0,\n",
      "\t\tcolor=purple,\n",
      "\t\tid=0,\n",
      "\t\tpenwidth=2.0];\n",
      "\t22\t[followers=2000,\n",
      "\t\tlabel=SocialMedia,\n",
      "\t\tplatform=Facebook,\n",
      "\t\tusername=john_doe];\n",
      "\t1 -> 22\t[id=1];\n",
      "\t6\t[fraudReported=False,\n",
      "\t\tlabel=Transaction];\n",
      "\t2 -> 6\t[id=2];\n",
      "\t5\t[compromised=False,\n",
      "\t\tlabel=Pos];\n",
      "\t6 -> 5\t[id=5];\n",
      "\t3\t[fillcolor=orange,\n",
      "\t\tlabel=Store,\n",
      "\t\tname=Walmart,\n",
      "\t\tstyle=filled];\n",
      "\t4\t[label=Category,\n",
      "\t\tname=\"Grocery store\"];\n",
      "\t3 -> 4\t[id=3];\n",
      "\t3 -> 5\t[id=4];\n",
      "}\n",
      "\n"
     ]
    }
   ],
   "source": [
    "A = to_agraph(G) #include label by default\n",
    "print(A)\n",
    "\n",
    "A.layout('dot')\n",
    "A.draw('graphviz-schema-2.png') #export graph"
   ]
  }
 ],
 "metadata": {
  "kernelspec": {
   "display_name": "Python 3",
   "language": "python",
   "name": "python3"
  },
  "language_info": {
   "codemirror_mode": {
    "name": "ipython",
    "version": 3
   },
   "file_extension": ".py",
   "mimetype": "text/x-python",
   "name": "python",
   "nbconvert_exporter": "python",
   "pygments_lexer": "ipython3",
   "version": "3.9.5"
  }
 },
 "nbformat": 4,
 "nbformat_minor": 5
}
