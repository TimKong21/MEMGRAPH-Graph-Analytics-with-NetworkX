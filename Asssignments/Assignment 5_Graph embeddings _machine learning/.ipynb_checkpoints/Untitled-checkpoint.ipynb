{
 "cells": [
  {
   "cell_type": "markdown",
   "id": "029e10c1",
   "metadata": {},
   "source": [
    "# Node Classification on Facebook Large Page-Page Network"
   ]
  },
  {
   "cell_type": "markdown",
   "id": "f71bf34f",
   "metadata": {
    "tags": []
   },
   "source": [
    "## About dataset"
   ]
  },
  {
   "cell_type": "markdown",
   "id": "c3cefa00",
   "metadata": {},
   "source": [
    "This webgraph is a page-page graph of verified Facebook sites. This graph was collected through the Facebook Graph API in November 2017 and restricted to pages from 4 categories which are defined by Facebook. These categories are: politicians, governmental organizations, television shows and companies. The task related to this dataset is multi-class node classification for the 4 site categories.\n",
    "\n",
    "[musae_facebook_target.csv](https://raw.githubusercontent.com/TimKong21/MEMGRAPH-Graph-Analytics-with-NetworkX/main/Asssignments/Assignment%205_Graph%20embeddings%20_machine%20learning/facebook_large/musae_facebook_target.csv)\n",
    "1. Nodes are the oficial Facebook pages with unique id.\n",
    "2. Each page is labelled with the page type - 'tvshow', 'government', 'company', 'politician'\n",
    "\n",
    "[musae_facebook_edges.csv](https://raw.githubusercontent.com/benedekrozemberczki/MUSAE/master/input/edges/facebook_edges.csv) \n",
    "1. Edges are the mutual likes between the Facebook pages"
   ]
  },
  {
   "cell_type": "markdown",
   "id": "4623f8c6",
   "metadata": {},
   "source": [
    "## Import necessary modules"
   ]
  },
  {
   "cell_type": "code",
   "execution_count": 89,
   "id": "1c2f939d",
   "metadata": {},
   "outputs": [],
   "source": [
    "import networkx as nx\n",
    "import pandas as pd\n",
    "import numpy as np \n",
    "import matplotlib.pyplot as plt\n",
    "import matplotlib.cm as cm\n",
    "\n",
    "import random\n",
    "from tqdm import tqdm\n",
    "\n",
    "from sklearn.manifold import TSNE\n",
    "from sklearn.model_selection import train_test_split\n",
    "from sklearn import preprocessing\n",
    "from sklearn.linear_model import LogisticRegressionCV\n",
    "from sklearn.metrics import f1_score\n",
    "from sklearn.metrics import SCORERS\n",
    "\n",
    "from gensim.models import KeyedVectors\n",
    "from gensim.models import Word2Vec\n",
    "from stellargraph import StellarGraph\n",
    "from stellargraph.data import BiasedRandomWalk\n",
    "\n",
    "%matplotlib inline"
   ]
  },
  {
   "cell_type": "markdown",
   "id": "e1c24bff",
   "metadata": {
    "tags": []
   },
   "source": [
    "## Data importation and preprocessing"
   ]
  },
  {
   "cell_type": "markdown",
   "id": "585c51e9",
   "metadata": {
    "tags": []
   },
   "source": [
    "### Edges data "
   ]
  },
  {
   "cell_type": "code",
   "execution_count": 2,
   "id": "9a9a6b46",
   "metadata": {},
   "outputs": [
    {
     "name": "stdout",
     "output_type": "stream",
     "text": [
      "shape: (171002, 2)\n"
     ]
    },
    {
     "data": {
      "text/html": [
       "<div>\n",
       "<style scoped>\n",
       "    .dataframe tbody tr th:only-of-type {\n",
       "        vertical-align: middle;\n",
       "    }\n",
       "\n",
       "    .dataframe tbody tr th {\n",
       "        vertical-align: top;\n",
       "    }\n",
       "\n",
       "    .dataframe thead th {\n",
       "        text-align: right;\n",
       "    }\n",
       "</style>\n",
       "<table border=\"1\" class=\"dataframe\">\n",
       "  <thead>\n",
       "    <tr style=\"text-align: right;\">\n",
       "      <th></th>\n",
       "      <th>id_1</th>\n",
       "      <th>id_2</th>\n",
       "    </tr>\n",
       "  </thead>\n",
       "  <tbody>\n",
       "    <tr>\n",
       "      <th>0</th>\n",
       "      <td>0</td>\n",
       "      <td>18427</td>\n",
       "    </tr>\n",
       "    <tr>\n",
       "      <th>1</th>\n",
       "      <td>1</td>\n",
       "      <td>21708</td>\n",
       "    </tr>\n",
       "    <tr>\n",
       "      <th>2</th>\n",
       "      <td>1</td>\n",
       "      <td>22208</td>\n",
       "    </tr>\n",
       "    <tr>\n",
       "      <th>3</th>\n",
       "      <td>1</td>\n",
       "      <td>22171</td>\n",
       "    </tr>\n",
       "    <tr>\n",
       "      <th>4</th>\n",
       "      <td>1</td>\n",
       "      <td>6829</td>\n",
       "    </tr>\n",
       "  </tbody>\n",
       "</table>\n",
       "</div>"
      ],
      "text/plain": [
       "   id_1   id_2\n",
       "0     0  18427\n",
       "1     1  21708\n",
       "2     1  22208\n",
       "3     1  22171\n",
       "4     1   6829"
      ]
     },
     "execution_count": 2,
     "metadata": {},
     "output_type": "execute_result"
    }
   ],
   "source": [
    "edges = pd.read_csv('facebook_large/musae_facebook_edges.csv')\n",
    "print('shape:',edges.shape)\n",
    "edges.head()"
   ]
  },
  {
   "cell_type": "code",
   "execution_count": 3,
   "id": "e856e320-82d2-4852-afc4-13488f0a682a",
   "metadata": {},
   "outputs": [
    {
     "data": {
      "text/plain": [
       "(171002, 2)"
      ]
     },
     "execution_count": 3,
     "metadata": {},
     "output_type": "execute_result"
    }
   ],
   "source": [
    "edges.shape"
   ]
  },
  {
   "cell_type": "markdown",
   "id": "3c8d1b06",
   "metadata": {
    "tags": []
   },
   "source": [
    "### Nodes data"
   ]
  },
  {
   "cell_type": "code",
   "execution_count": 4,
   "id": "1eca128b",
   "metadata": {},
   "outputs": [
    {
     "name": "stdout",
     "output_type": "stream",
     "text": [
      "shape: (22470, 4)\n"
     ]
    },
    {
     "data": {
      "text/html": [
       "<div>\n",
       "<style scoped>\n",
       "    .dataframe tbody tr th:only-of-type {\n",
       "        vertical-align: middle;\n",
       "    }\n",
       "\n",
       "    .dataframe tbody tr th {\n",
       "        vertical-align: top;\n",
       "    }\n",
       "\n",
       "    .dataframe thead th {\n",
       "        text-align: right;\n",
       "    }\n",
       "</style>\n",
       "<table border=\"1\" class=\"dataframe\">\n",
       "  <thead>\n",
       "    <tr style=\"text-align: right;\">\n",
       "      <th></th>\n",
       "      <th>id</th>\n",
       "      <th>facebook_id</th>\n",
       "      <th>page_name</th>\n",
       "      <th>page_type</th>\n",
       "    </tr>\n",
       "  </thead>\n",
       "  <tbody>\n",
       "    <tr>\n",
       "      <th>0</th>\n",
       "      <td>0</td>\n",
       "      <td>145647315578475</td>\n",
       "      <td>The Voice of China 中国好声音</td>\n",
       "      <td>tvshow</td>\n",
       "    </tr>\n",
       "    <tr>\n",
       "      <th>1</th>\n",
       "      <td>1</td>\n",
       "      <td>191483281412</td>\n",
       "      <td>U.S. Consulate General Mumbai</td>\n",
       "      <td>government</td>\n",
       "    </tr>\n",
       "    <tr>\n",
       "      <th>2</th>\n",
       "      <td>2</td>\n",
       "      <td>144761358898518</td>\n",
       "      <td>ESET</td>\n",
       "      <td>company</td>\n",
       "    </tr>\n",
       "    <tr>\n",
       "      <th>3</th>\n",
       "      <td>3</td>\n",
       "      <td>568700043198473</td>\n",
       "      <td>Consulate General of Switzerland in Montreal</td>\n",
       "      <td>government</td>\n",
       "    </tr>\n",
       "    <tr>\n",
       "      <th>4</th>\n",
       "      <td>4</td>\n",
       "      <td>1408935539376139</td>\n",
       "      <td>Mark Bailey MP - Labor for Miller</td>\n",
       "      <td>politician</td>\n",
       "    </tr>\n",
       "  </tbody>\n",
       "</table>\n",
       "</div>"
      ],
      "text/plain": [
       "   id       facebook_id                                     page_name  \\\n",
       "0   0   145647315578475                      The Voice of China 中国好声音   \n",
       "1   1      191483281412                 U.S. Consulate General Mumbai   \n",
       "2   2   144761358898518                                          ESET   \n",
       "3   3   568700043198473  Consulate General of Switzerland in Montreal   \n",
       "4   4  1408935539376139             Mark Bailey MP - Labor for Miller   \n",
       "\n",
       "    page_type  \n",
       "0      tvshow  \n",
       "1  government  \n",
       "2     company  \n",
       "3  government  \n",
       "4  politician  "
      ]
     },
     "execution_count": 4,
     "metadata": {},
     "output_type": "execute_result"
    }
   ],
   "source": [
    "nodes = pd.read_csv('facebook_large/musae_facebook_target.csv')\n",
    "print('shape:',nodes.shape)\n",
    "nodes.head()"
   ]
  },
  {
   "cell_type": "code",
   "execution_count": 5,
   "id": "23e183a3-9faa-4a2b-9759-4ad5fb7ed123",
   "metadata": {},
   "outputs": [
    {
     "data": {
      "text/plain": [
       "(22470, 4)"
      ]
     },
     "execution_count": 5,
     "metadata": {},
     "output_type": "execute_result"
    }
   ],
   "source": [
    "nodes.shape"
   ]
  },
  {
   "cell_type": "markdown",
   "id": "5a8c8b69",
   "metadata": {},
   "source": [
    "#### Label encoding on page type \n",
    "4 main classifications"
   ]
  },
  {
   "cell_type": "code",
   "execution_count": 6,
   "id": "0a149760",
   "metadata": {},
   "outputs": [
    {
     "data": {
      "text/plain": [
       "array(['tvshow', 'government', 'company', 'politician'], dtype=object)"
      ]
     },
     "execution_count": 6,
     "metadata": {},
     "output_type": "execute_result"
    }
   ],
   "source": [
    "nodes['page_type'].unique()"
   ]
  },
  {
   "cell_type": "code",
   "execution_count": 7,
   "id": "aaf3989b",
   "metadata": {},
   "outputs": [],
   "source": [
    "node_att = preprocessing.LabelEncoder()\n",
    "node_att.fit(['tvshow', 'government', 'company', 'politician'])\n",
    "nodes['label_class']=node_att.transform(nodes['page_type'])"
   ]
  },
  {
   "cell_type": "code",
   "execution_count": 8,
   "id": "72d3399d-fe62-464f-ba1e-15cb36d9858d",
   "metadata": {},
   "outputs": [
    {
     "data": {
      "text/plain": [
       "array([3, 1, 0, 2], dtype=int64)"
      ]
     },
     "execution_count": 8,
     "metadata": {},
     "output_type": "execute_result"
    }
   ],
   "source": [
    "nodes['label_class'].unique()"
   ]
  },
  {
   "cell_type": "code",
   "execution_count": 9,
   "id": "7ae814e8",
   "metadata": {},
   "outputs": [
    {
     "data": {
      "text/html": [
       "<div>\n",
       "<style scoped>\n",
       "    .dataframe tbody tr th:only-of-type {\n",
       "        vertical-align: middle;\n",
       "    }\n",
       "\n",
       "    .dataframe tbody tr th {\n",
       "        vertical-align: top;\n",
       "    }\n",
       "\n",
       "    .dataframe thead th {\n",
       "        text-align: right;\n",
       "    }\n",
       "</style>\n",
       "<table border=\"1\" class=\"dataframe\">\n",
       "  <thead>\n",
       "    <tr style=\"text-align: right;\">\n",
       "      <th></th>\n",
       "      <th>id</th>\n",
       "      <th>facebook_id</th>\n",
       "      <th>page_name</th>\n",
       "      <th>page_type</th>\n",
       "      <th>label_class</th>\n",
       "    </tr>\n",
       "  </thead>\n",
       "  <tbody>\n",
       "    <tr>\n",
       "      <th>0</th>\n",
       "      <td>0</td>\n",
       "      <td>145647315578475</td>\n",
       "      <td>The Voice of China 中国好声音</td>\n",
       "      <td>tvshow</td>\n",
       "      <td>3</td>\n",
       "    </tr>\n",
       "    <tr>\n",
       "      <th>1</th>\n",
       "      <td>1</td>\n",
       "      <td>191483281412</td>\n",
       "      <td>U.S. Consulate General Mumbai</td>\n",
       "      <td>government</td>\n",
       "      <td>1</td>\n",
       "    </tr>\n",
       "    <tr>\n",
       "      <th>2</th>\n",
       "      <td>2</td>\n",
       "      <td>144761358898518</td>\n",
       "      <td>ESET</td>\n",
       "      <td>company</td>\n",
       "      <td>0</td>\n",
       "    </tr>\n",
       "    <tr>\n",
       "      <th>3</th>\n",
       "      <td>3</td>\n",
       "      <td>568700043198473</td>\n",
       "      <td>Consulate General of Switzerland in Montreal</td>\n",
       "      <td>government</td>\n",
       "      <td>1</td>\n",
       "    </tr>\n",
       "    <tr>\n",
       "      <th>4</th>\n",
       "      <td>4</td>\n",
       "      <td>1408935539376139</td>\n",
       "      <td>Mark Bailey MP - Labor for Miller</td>\n",
       "      <td>politician</td>\n",
       "      <td>2</td>\n",
       "    </tr>\n",
       "  </tbody>\n",
       "</table>\n",
       "</div>"
      ],
      "text/plain": [
       "   id       facebook_id                                     page_name  \\\n",
       "0   0   145647315578475                      The Voice of China 中国好声音   \n",
       "1   1      191483281412                 U.S. Consulate General Mumbai   \n",
       "2   2   144761358898518                                          ESET   \n",
       "3   3   568700043198473  Consulate General of Switzerland in Montreal   \n",
       "4   4  1408935539376139             Mark Bailey MP - Labor for Miller   \n",
       "\n",
       "    page_type  label_class  \n",
       "0      tvshow            3  \n",
       "1  government            1  \n",
       "2     company            0  \n",
       "3  government            1  \n",
       "4  politician            2  "
      ]
     },
     "execution_count": 9,
     "metadata": {},
     "output_type": "execute_result"
    }
   ],
   "source": [
    "nodes.head()"
   ]
  },
  {
   "cell_type": "markdown",
   "id": "cc17c89b",
   "metadata": {},
   "source": [
    "## Load and sample graph"
   ]
  },
  {
   "cell_type": "code",
   "execution_count": 19,
   "id": "e22741ae",
   "metadata": {},
   "outputs": [],
   "source": [
    "def load_graph(nodes, edges): #generate Networkx graph object\n",
    "    # Networkx graph object\n",
    "    G = nx.Graph()\n",
    "    \n",
    "    # add edges \n",
    "    G = nx.from_pandas_edgelist(edges, 'id_1', 'id_2')\n",
    "    \n",
    "    # set node attributes ->label_class\n",
    "    label_class = pd.Series(nodes.label_class, index=nodes.id).to_dict()\n",
    "    nx.set_node_attributes(G, values=label_class, name='label_class')\n",
    "    \n",
    "    # set node attributes ->page type \n",
    "    page_type = pd.Series(nodes.page_type, index=nodes.id).to_dict()\n",
    "    nx.set_node_attributes(G, values=page_type, name='page_type')\n",
    "    \n",
    "    # set node attributes ->node id\n",
    "    node_id = pd.Series(nodes.facebook_id, index=nodes.id).to_dict()\n",
    "    nx.set_node_attributes(G, values=node_id, name='facebook_id')\n",
    "    \n",
    "    return G"
   ]
  },
  {
   "cell_type": "code",
   "execution_count": 24,
   "id": "cc64c862-43ed-42ff-a455-dea001f56b4f",
   "metadata": {},
   "outputs": [],
   "source": [
    "def sample_graph(G, num_samples, seed): #sampling \n",
    "    # randomly sample data \n",
    "    random.seed(seed) #set random state for next occurance of random elements\n",
    "    samples = random.sample(list(G.nodes), num_samples)\n",
    "    \n",
    "    # remove unsampled nodes\n",
    "    dump_nodes = []\n",
    "    for n in tqdm(G):\n",
    "        if n not in samples:\n",
    "            dump_nodes.append(n)       \n",
    "    G.remove_nodes_from(dump_nodes)\n",
    "    print(\"Number of sampled nodes:\", len(list(G.nodes)))\n",
    "\n",
    "    return G"
   ]
  },
  {
   "cell_type": "markdown",
   "id": "3445f302",
   "metadata": {},
   "source": [
    "## Node2Vec algorithm"
   ]
  },
  {
   "cell_type": "markdown",
   "id": "070ca509-7a3f-4ada-95c9-28eecd00171a",
   "metadata": {},
   "source": [
    "The Node2Vec algorithm is a 2-step representation learning algorithm. The two steps are:\n",
    "1. Use second-order random walks to generate sentences from a graph. A sentence is a list of node ids. The set of all sentences makes a **corpus**.\n",
    "\n",
    "2. The corpus is then used to learn an embedding vector for each node in the graph. Each node id is considered a unique word/token in a dictionary that has size equal to the number of nodes in the graph. The **Word2Vec** algorithm, is used for calculating the embedding vectors."
   ]
  },
  {
   "cell_type": "code",
   "execution_count": 40,
   "id": "7673cd90-b468-4b01-a5c6-4e5853dbf7c0",
   "metadata": {},
   "outputs": [],
   "source": [
    "# load saved embeddings(.txt) as dict\n",
    "def load_embeddings(file_path):\n",
    "    embedding_dict = {}\n",
    "    first_line = True\n",
    "    with open(file_path) as f:\n",
    "        for line in f:\n",
    "            if first_line:\n",
    "                first_line = False\n",
    "                continue\n",
    "            vector = [float(i) for i in line.strip().split()]\n",
    "            embedding_dict[int(vector[0])] = vector[1:]\n",
    "        f.close()\n",
    "    return embedding_dict\n",
    "\n",
    "# two steps Node2Vec algorithm\n",
    "def calculate_embeddings(recalculate_embeddings, G, txt_embeddings_file_path):\n",
    "    if recalculate_embeddings==True: #calculate emebeddings, or else use existing ones\n",
    "        # 1. perform random walk to generate corpus \n",
    "        rw = BiasedRandomWalk(StellarGraph(G))\n",
    "        walks = rw.run(\n",
    "            nodes=list(G.nodes()),  # root nodes\n",
    "            length=32,  # maximum length of a random walk\n",
    "            n=10,  # number of random walks per root node\n",
    "            p=0.5,  # Defines (unormalised) probability, 1/p, of returning to source node\n",
    "            q=2.0,  # Defines (unormalised) probability, 1/q, for moving away from source node\n",
    "            seed=42 # make random walk predictable\n",
    "        )\n",
    "        print(\"Number of random walks: {}\".format(len(walks)))\n",
    "        \n",
    "        # 2. perform Word2Vec to learn embedding vectors and save as .txt\n",
    "        str_walks = [[str(n) for n in walk] for walk in walks] # str conversion for Word2Vec argument\n",
    "        model = Word2Vec(str_walks, vector_size=128, window=5, \n",
    "                         min_count=0, sg=1, workers=2, epochs=1)\n",
    "        model.wv.save_word2vec_format(txt_embeddings_file_path) #save to path as .txt\n",
    "        \n",
    "    return load_embeddings(txt_embeddings_file_path)"
   ]
  },
  {
   "cell_type": "markdown",
   "id": "27e0c634-e3ae-4acb-a82a-e84df0eed090",
   "metadata": {},
   "source": [
    "## Node embeddings visualization with TSNE\n",
    "t-SNE is a tool to visualize high-dimensional data. It converts similarities between data points to joint probabilities and tries to minimize the Kullback-Leibler divergence between the joint probabilities of the low-dimensional embedding and the high-dimensional data. t-SNE has a cost function that is not convex, i.e. with different initializations we can get different results."
   ]
  },
  {
   "cell_type": "code",
   "execution_count": 86,
   "id": "16b6c1ef-ee53-4b66-9ff9-09d8e4c26f01",
   "metadata": {},
   "outputs": [],
   "source": [
    "def vis_node_embeddings(G):\n",
    "    # Retrieve node embeddings and corresponding subjects(page type)\n",
    "    model = KeyedVectors.load_word2vec_format('embeddings.txt')  \n",
    "    node_ids = model.index_to_key #list of node ids(in str)\n",
    "    node_embeddings = model.vectors  # numpy.ndarray of size number of nodes times embeddings dimensionality\n",
    "    node_targets = [G.nodes[int(node_id)]['page_type'] for node_id in node_ids]\n",
    "    \n",
    "    # Apply dimension reduction on node embeddings - TSNE\n",
    "    tsne = TSNE(n_components=2, random_state=42)\n",
    "    node_embeddings_2d = tsne.fit_transform(node_embeddings)\n",
    "    \n",
    "    # visualization\n",
    "    label_map = {label: idx for idx, label in enumerate(np.unique(node_targets))}\n",
    "    node_colours = [label_map[target] for target in node_targets]\n",
    "    plt.figure(figsize=(10,8))\n",
    "    plt.scatter(node_embeddings_2d[:,0],\n",
    "                node_embeddings_2d[:,1],\n",
    "                c=node_colours, alpha=0.9)\n",
    "    plt.show()\n",
    "    \n",
    "    return node_embeddings, node_targets, label_map, node_colours"
   ]
  },
  {
   "cell_type": "markdown",
   "id": "9997a246",
   "metadata": {},
   "source": [
    "## Logistic regression classifier  "
   ]
  },
  {
   "cell_type": "code",
   "execution_count": 92,
   "id": "c93748ba-d9a9-483b-91ba-df1225a1481a",
   "metadata": {},
   "outputs": [],
   "source": [
    "def split_data(node_embeddings, node_targets):\n",
    "    # X will hold the 128-dimensional input features\n",
    "    X = node_embeddings\n",
    "    # y holds the corresponding target values\n",
    "    y = np.array(node_targets)\n",
    "\n",
    "    X_train, X_test, y_train, y_test = train_test_split(X, y, test_size=0.2)\n",
    "    return X_train, X_test, y_train, y_test\n",
    "\n",
    "\n",
    "def train_classifier(X_train, y_train, scoring):\n",
    "    clf = LogisticRegressionCV(\n",
    "        Cs=10, cv=10, scoring=scoring, verbose=False, max_iter=3000\n",
    "    )\n",
    "    clf.fit(X_train, y_train)\n",
    "    return clf\n",
    "\n",
    "\n",
    "def test_classifier(X_test, y_test, clf):\n",
    "    y_pred = clf.predict(X_test)\n",
    "    #print(f\"Accuracy classification score: {accuracy_score(y_test, y_pred)}\")\n",
    "    print(f\"f1-score: {clf.score(X_test, y_test)}\")\n",
    "    "
   ]
  },
  {
   "cell_type": "markdown",
   "id": "37688379-4717-4e32-92ec-ae9f4b0cc6ad",
   "metadata": {},
   "source": [
    "## Hyperparameter tuning "
   ]
  },
  {
   "cell_type": "code",
   "execution_count": null,
   "id": "a4832f28-9972-417f-8a18-330a4245dcfc",
   "metadata": {},
   "outputs": [],
   "source": []
  },
  {
   "cell_type": "markdown",
   "id": "f27f0eb7",
   "metadata": {},
   "source": [
    "# Downstream tasks "
   ]
  },
  {
   "cell_type": "markdown",
   "id": "398130cf-873b-4067-ac10-2deaa9f9ce4c",
   "metadata": {},
   "source": [
    "## Load and sample graph "
   ]
  },
  {
   "cell_type": "code",
   "execution_count": null,
   "id": "f0e4f0d9",
   "metadata": {},
   "outputs": [],
   "source": [
    "G = load_graph(nodes,edges) #networkx graph object \n",
    "G = sample_graph(G, 1000, 42) "
   ]
  },
  {
   "cell_type": "code",
   "execution_count": 64,
   "id": "ff23b956-78e9-4053-8b08-d2be652aaa69",
   "metadata": {},
   "outputs": [
    {
     "data": {
      "text/plain": [
       "{'label_class': 1, 'page_type': 'government', 'facebook_id': 179147728769492}"
      ]
     },
     "execution_count": 64,
     "metadata": {},
     "output_type": "execute_result"
    }
   ],
   "source": [
    "G.nodes[7136]"
   ]
  },
  {
   "cell_type": "code",
   "execution_count": 67,
   "id": "c20f8b2d-d918-489d-800c-47b4287202dc",
   "metadata": {},
   "outputs": [
    {
     "data": {
      "text/html": [
       "<div>\n",
       "<style scoped>\n",
       "    .dataframe tbody tr th:only-of-type {\n",
       "        vertical-align: middle;\n",
       "    }\n",
       "\n",
       "    .dataframe tbody tr th {\n",
       "        vertical-align: top;\n",
       "    }\n",
       "\n",
       "    .dataframe thead th {\n",
       "        text-align: right;\n",
       "    }\n",
       "</style>\n",
       "<table border=\"1\" class=\"dataframe\">\n",
       "  <thead>\n",
       "    <tr style=\"text-align: right;\">\n",
       "      <th></th>\n",
       "      <th>id</th>\n",
       "      <th>facebook_id</th>\n",
       "      <th>page_name</th>\n",
       "      <th>page_type</th>\n",
       "      <th>label_class</th>\n",
       "    </tr>\n",
       "  </thead>\n",
       "  <tbody>\n",
       "    <tr>\n",
       "      <th>7136</th>\n",
       "      <td>7136</td>\n",
       "      <td>179147728769492</td>\n",
       "      <td>USAID India</td>\n",
       "      <td>government</td>\n",
       "      <td>1</td>\n",
       "    </tr>\n",
       "  </tbody>\n",
       "</table>\n",
       "</div>"
      ],
      "text/plain": [
       "        id      facebook_id    page_name   page_type  label_class\n",
       "7136  7136  179147728769492  USAID India  government            1"
      ]
     },
     "execution_count": 67,
     "metadata": {},
     "output_type": "execute_result"
    }
   ],
   "source": [
    "nodes.loc[nodes['id'] == 7136] #quickly verify correct info passed"
   ]
  },
  {
   "cell_type": "markdown",
   "id": "da4f50d1-e2cd-47c7-97b0-f0e65d4fa65f",
   "metadata": {},
   "source": [
    "## Calculate embeddings\n",
    "Choose whether to recalculate embeddings or use the existing"
   ]
  },
  {
   "cell_type": "code",
   "execution_count": 41,
   "id": "f8cf5d5a-c09f-498a-9ec5-09400aa2460f",
   "metadata": {},
   "outputs": [
    {
     "name": "stdout",
     "output_type": "stream",
     "text": [
      "Number of random walks: 10000\n"
     ]
    }
   ],
   "source": [
    "embeddings_dict = calculate_embeddings(True, G, 'embeddings.txt')"
   ]
  },
  {
   "cell_type": "code",
   "execution_count": 45,
   "id": "e93058a6-5b9f-4f8e-84c2-21e4645d43ef",
   "metadata": {
    "scrolled": true,
    "tags": []
   },
   "outputs": [
    {
     "data": {
      "text/plain": [
       "[(3499,\n",
       "  [0.26189002,\n",
       "   0.03945423,\n",
       "   0.12721683,\n",
       "   -0.49667525,\n",
       "   -0.30376264,\n",
       "   0.008882724,\n",
       "   0.23360316,\n",
       "   -0.11576455,\n",
       "   -0.5223983,\n",
       "   0.54051274,\n",
       "   0.32078266,\n",
       "   0.48368734,\n",
       "   -0.19662169,\n",
       "   0.31304,\n",
       "   0.168027,\n",
       "   -0.48616874,\n",
       "   0.09806625,\n",
       "   -0.49787372,\n",
       "   0.5665254,\n",
       "   0.3593084,\n",
       "   -0.10096982,\n",
       "   -0.80585,\n",
       "   -0.4417492,\n",
       "   0.4010608,\n",
       "   -0.47099665,\n",
       "   -0.09292686,\n",
       "   -0.20077705,\n",
       "   0.24620196,\n",
       "   0.18862712,\n",
       "   0.34288597,\n",
       "   -0.0810439,\n",
       "   0.34584785,\n",
       "   0.468484,\n",
       "   0.13734114,\n",
       "   0.0034474754,\n",
       "   -0.13186136,\n",
       "   0.3857827,\n",
       "   -0.28027403,\n",
       "   -0.5724987,\n",
       "   0.96028215,\n",
       "   -0.5433948,\n",
       "   -0.17633483,\n",
       "   -0.41407698,\n",
       "   0.32933715,\n",
       "   0.3296859,\n",
       "   -0.27645925,\n",
       "   0.44273993,\n",
       "   0.4139177,\n",
       "   0.047847178,\n",
       "   1.0187458,\n",
       "   -0.26282698,\n",
       "   0.06750612,\n",
       "   -0.34874532,\n",
       "   -0.50602365,\n",
       "   0.14753532,\n",
       "   -0.0065869177,\n",
       "   -0.017554918,\n",
       "   -0.2891088,\n",
       "   -0.28476897,\n",
       "   0.6007002,\n",
       "   -0.2987424,\n",
       "   0.20330256,\n",
       "   0.09270698,\n",
       "   -0.25944886,\n",
       "   0.10931403,\n",
       "   0.16251847,\n",
       "   0.35719544,\n",
       "   -0.28206623,\n",
       "   0.39408362,\n",
       "   -0.75388026,\n",
       "   0.56669205,\n",
       "   0.48317856,\n",
       "   0.6569814,\n",
       "   -0.6547339,\n",
       "   0.1682791,\n",
       "   0.28258452,\n",
       "   -0.012755249,\n",
       "   -0.26309457,\n",
       "   0.11379319,\n",
       "   -0.6695511,\n",
       "   -0.3887983,\n",
       "   0.032933444,\n",
       "   -0.36958912,\n",
       "   -0.071914725,\n",
       "   -0.647982,\n",
       "   0.24868084,\n",
       "   -0.19038694,\n",
       "   -0.33476618,\n",
       "   0.18499321,\n",
       "   0.49352226,\n",
       "   0.13944666,\n",
       "   0.3106295,\n",
       "   0.20288344,\n",
       "   -0.1195519,\n",
       "   -0.057612356,\n",
       "   0.23519866,\n",
       "   -0.39948145,\n",
       "   -0.32944855,\n",
       "   0.95216614,\n",
       "   0.31133664,\n",
       "   -0.31694576,\n",
       "   0.40577763,\n",
       "   0.28838784,\n",
       "   -0.383626,\n",
       "   -0.13493049,\n",
       "   -0.14422612,\n",
       "   -0.3397955,\n",
       "   -0.21447071,\n",
       "   0.2873909,\n",
       "   0.12905204,\n",
       "   -0.33926928,\n",
       "   -0.22798778,\n",
       "   0.001629628,\n",
       "   0.33842495,\n",
       "   0.028660446,\n",
       "   0.11643459,\n",
       "   -0.20795706,\n",
       "   -0.28511798,\n",
       "   -0.3884994,\n",
       "   0.19784324,\n",
       "   0.20691016,\n",
       "   -0.67018783,\n",
       "   -0.13472691,\n",
       "   -0.09966581,\n",
       "   -0.018669976,\n",
       "   0.0032827423,\n",
       "   -0.7802852,\n",
       "   0.22115986])]"
      ]
     },
     "execution_count": 45,
     "metadata": {},
     "output_type": "execute_result"
    }
   ],
   "source": [
    "list(embeddings_dict.items())[:1] #quickly check the 128 vectors of first node"
   ]
  },
  {
   "cell_type": "markdown",
   "id": "af3bc861-980c-4785-a631-a5bab4cee7af",
   "metadata": {},
   "source": [
    "## Visualize node embeddings"
   ]
  },
  {
   "cell_type": "code",
   "execution_count": 87,
   "id": "b08229dd-08f9-4590-a240-2038bb1f8f5d",
   "metadata": {},
   "outputs": [
    {
     "data": {
      "image/png": "[encoded data removed]",
      "text/plain": [
       "<Figure size 720x576 with 1 Axes>"
      ]
     },
     "metadata": {
      "needs_background": "light"
     },
     "output_type": "display_data"
    }
   ],
   "source": [
    "node_embeddings, node_targets, label_map, node_colours = vis_node_embeddings(G)"
   ]
  },
  {
   "cell_type": "markdown",
   "id": "ba004015-05f3-42b5-b076-b6d94159be54",
   "metadata": {},
   "source": [
    "## Node classification"
   ]
  },
  {
   "cell_type": "code",
   "execution_count": 90,
   "id": "0e97fefd-13ee-4a23-b4b7-b8f9f24305c1",
   "metadata": {},
   "outputs": [
    {
     "data": {
      "text/plain": [
       "dict_keys(['explained_variance', 'r2', 'max_error', 'neg_median_absolute_error', 'neg_mean_absolute_error', 'neg_mean_absolute_percentage_error', 'neg_mean_squared_error', 'neg_mean_squared_log_error', 'neg_root_mean_squared_error', 'neg_mean_poisson_deviance', 'neg_mean_gamma_deviance', 'accuracy', 'top_k_accuracy', 'roc_auc', 'roc_auc_ovr', 'roc_auc_ovo', 'roc_auc_ovr_weighted', 'roc_auc_ovo_weighted', 'balanced_accuracy', 'average_precision', 'neg_log_loss', 'neg_brier_score', 'adjusted_rand_score', 'rand_score', 'homogeneity_score', 'completeness_score', 'v_measure_score', 'mutual_info_score', 'adjusted_mutual_info_score', 'normalized_mutual_info_score', 'fowlkes_mallows_score', 'precision', 'precision_macro', 'precision_micro', 'precision_samples', 'precision_weighted', 'recall', 'recall_macro', 'recall_micro', 'recall_samples', 'recall_weighted', 'f1', 'f1_macro', 'f1_micro', 'f1_samples', 'f1_weighted', 'jaccard', 'jaccard_macro', 'jaccard_micro', 'jaccard_samples', 'jaccard_weighted'])"
      ]
     },
     "execution_count": 90,
     "metadata": {},
     "output_type": "execute_result"
    }
   ],
   "source": [
    "SCORERS.keys() #all scoring keys "
   ]
  },
  {
   "cell_type": "code",
   "execution_count": 93,
   "id": "b80a2829-3add-493f-ae68-0f24819acb5b",
   "metadata": {},
   "outputs": [
    {
     "name": "stdout",
     "output_type": "stream",
     "text": [
      "f1-score: 0.4756121118995504\n"
     ]
    }
   ],
   "source": [
    "X_train, X_test, y_train, y_test = split_data(node_embeddings, node_targets)\n",
    "clf = train_classifier(X_train, y_train, 'f1_weighted')\n",
    "test_classifier(X_test, y_test, clf)"
   ]
  },
  {
   "cell_type": "markdown",
   "id": "3eef0823-d11b-48dc-bd68-47bdf25a4311",
   "metadata": {},
   "source": [
    "### Hyperparameter tuning "
   ]
  },
  {
   "cell_type": "markdown",
   "id": "2e38896a-2aaa-49dd-b6dc-2a32e0cbe43a",
   "metadata": {},
   "source": [
    "## Conclusion"
   ]
  },
  {
   "cell_type": "markdown",
   "id": "906aef8a-93d6-4585-8b37-cd152cd48ee1",
   "metadata": {},
   "source": [
    "1. Compare node color with label class - Node2Vec not very accurate\n",
    "2. maybe should remove unconnected nodes (try visualize before sampling - might not even needed to sample)"
   ]
  },
  {
   "cell_type": "code",
   "execution_count": null,
   "id": "f13a8602-4f9f-4b66-9146-140ca1e23c2f",
   "metadata": {},
   "outputs": [],
   "source": []
  }
 ],
 "metadata": {
  "kernelspec": {
   "display_name": "Python 3",
   "language": "python",
   "name": "python3"
  },
  "language_info": {
   "codemirror_mode": {
    "name": "ipython",
    "version": 3
   },
   "file_extension": ".py",
   "mimetype": "text/x-python",
   "name": "python",
   "nbconvert_exporter": "python",
   "pygments_lexer": "ipython3",
   "version": "3.6.5"
  }
 },
 "nbformat": 4,
 "nbformat_minor": 5
}
