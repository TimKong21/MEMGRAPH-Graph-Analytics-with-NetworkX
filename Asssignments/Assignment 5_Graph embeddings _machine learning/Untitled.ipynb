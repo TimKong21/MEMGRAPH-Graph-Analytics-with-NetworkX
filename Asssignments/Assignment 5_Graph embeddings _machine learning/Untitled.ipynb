{
 "cells": [
  {
   "cell_type": "markdown",
   "id": "029e10c1",
   "metadata": {},
   "source": [
    "# Node Classification on Facebook Large Page-Page Network"
   ]
  },
  {
   "cell_type": "markdown",
   "id": "f71bf34f",
   "metadata": {
    "tags": []
   },
   "source": [
    "## About dataset"
   ]
  },
  {
   "cell_type": "markdown",
   "id": "c3cefa00",
   "metadata": {},
   "source": [
    "This webgraph is a page-page graph of verified Facebook sites. This graph was collected through the Facebook Graph API in November 2017 and restricted to pages from 4 categories which are defined by Facebook. These categories are: politicians, governmental organizations, television shows and companies. The task related to this dataset is multi-class node classification for the 4 site categories.\n",
    "\n",
    "[musae_facebook_target.csv](https://raw.githubusercontent.com/TimKong21/MEMGRAPH-Graph-Analytics-with-NetworkX/main/Asssignments/Assignment%205_Graph%20embeddings%20_machine%20learning/facebook_large/musae_facebook_target.csv)\n",
    "1. Nodes are the oficial Facebook pages with unique id.\n",
    "2. Each page is labelled with the page type - 'tvshow', 'government', 'company', 'politician'\n",
    "\n",
    "[musae_facebook_edges.csv](https://raw.githubusercontent.com/benedekrozemberczki/MUSAE/master/input/edges/facebook_edges.csv) \n",
    "1. Edges are the mutual likes between the Facebook pages"
   ]
  },
  {
   "cell_type": "markdown",
   "id": "4623f8c6",
   "metadata": {},
   "source": [
    "## Import necessary modules"
   ]
  },
  {
   "cell_type": "code",
   "execution_count": 1,
   "id": "1c2f939d",
   "metadata": {},
   "outputs": [],
   "source": [
    "import networkx as nx\n",
    "import pandas as pd\n",
    "import numpy as np \n",
    "import matplotlib.pyplot as plt\n",
    "import matplotlib.cm as cm\n",
    "\n",
    "import random\n",
    "from tqdm import tqdm\n",
    "\n",
    "from sklearn.manifold import TSNE\n",
    "from sklearn.model_selection import train_test_split\n",
    "from sklearn import preprocessing\n",
    "from sklearn.linear_model import LogisticRegressionCV\n",
    "from sklearn.metrics import accuracy_score\n",
    "\n",
    "from gensim.models import KeyedVectors\n",
    "from gensim.models import Word2Vec\n",
    "from stellargraph import StellarGraph\n",
    "from stellargraph.data import BiasedRandomWalk\n",
    "\n",
    "%matplotlib inline"
   ]
  },
  {
   "cell_type": "markdown",
   "id": "e1c24bff",
   "metadata": {
    "tags": []
   },
   "source": [
    "## Data importation and preprocessing"
   ]
  },
  {
   "cell_type": "markdown",
   "id": "585c51e9",
   "metadata": {
    "tags": []
   },
   "source": [
    "### Edges data "
   ]
  },
  {
   "cell_type": "code",
   "execution_count": 2,
   "id": "9a9a6b46",
   "metadata": {},
   "outputs": [
    {
     "name": "stdout",
     "output_type": "stream",
     "text": [
      "shape: (171002, 2)\n"
     ]
    },
    {
     "data": {
      "text/html": [
       "<div>\n",
       "<style scoped>\n",
       "    .dataframe tbody tr th:only-of-type {\n",
       "        vertical-align: middle;\n",
       "    }\n",
       "\n",
       "    .dataframe tbody tr th {\n",
       "        vertical-align: top;\n",
       "    }\n",
       "\n",
       "    .dataframe thead th {\n",
       "        text-align: right;\n",
       "    }\n",
       "</style>\n",
       "<table border=\"1\" class=\"dataframe\">\n",
       "  <thead>\n",
       "    <tr style=\"text-align: right;\">\n",
       "      <th></th>\n",
       "      <th>id_1</th>\n",
       "      <th>id_2</th>\n",
       "    </tr>\n",
       "  </thead>\n",
       "  <tbody>\n",
       "    <tr>\n",
       "      <th>0</th>\n",
       "      <td>0</td>\n",
       "      <td>18427</td>\n",
       "    </tr>\n",
       "    <tr>\n",
       "      <th>1</th>\n",
       "      <td>1</td>\n",
       "      <td>21708</td>\n",
       "    </tr>\n",
       "    <tr>\n",
       "      <th>2</th>\n",
       "      <td>1</td>\n",
       "      <td>22208</td>\n",
       "    </tr>\n",
       "    <tr>\n",
       "      <th>3</th>\n",
       "      <td>1</td>\n",
       "      <td>22171</td>\n",
       "    </tr>\n",
       "    <tr>\n",
       "      <th>4</th>\n",
       "      <td>1</td>\n",
       "      <td>6829</td>\n",
       "    </tr>\n",
       "  </tbody>\n",
       "</table>\n",
       "</div>"
      ],
      "text/plain": [
       "   id_1   id_2\n",
       "0     0  18427\n",
       "1     1  21708\n",
       "2     1  22208\n",
       "3     1  22171\n",
       "4     1   6829"
      ]
     },
     "execution_count": 2,
     "metadata": {},
     "output_type": "execute_result"
    }
   ],
   "source": [
    "edges = pd.read_csv('facebook_large/musae_facebook_edges.csv')\n",
    "print('shape:',edges.shape)\n",
    "edges.head()"
   ]
  },
  {
   "cell_type": "code",
   "execution_count": 3,
   "id": "e856e320-82d2-4852-afc4-13488f0a682a",
   "metadata": {},
   "outputs": [
    {
     "data": {
      "text/plain": [
       "(171002, 2)"
      ]
     },
     "execution_count": 3,
     "metadata": {},
     "output_type": "execute_result"
    }
   ],
   "source": [
    "edges.shape"
   ]
  },
  {
   "cell_type": "markdown",
   "id": "3c8d1b06",
   "metadata": {
    "tags": []
   },
   "source": [
    "### Nodes data"
   ]
  },
  {
   "cell_type": "code",
   "execution_count": 4,
   "id": "1eca128b",
   "metadata": {},
   "outputs": [
    {
     "name": "stdout",
     "output_type": "stream",
     "text": [
      "shape: (22470, 4)\n"
     ]
    },
    {
     "data": {
      "text/html": [
       "<div>\n",
       "<style scoped>\n",
       "    .dataframe tbody tr th:only-of-type {\n",
       "        vertical-align: middle;\n",
       "    }\n",
       "\n",
       "    .dataframe tbody tr th {\n",
       "        vertical-align: top;\n",
       "    }\n",
       "\n",
       "    .dataframe thead th {\n",
       "        text-align: right;\n",
       "    }\n",
       "</style>\n",
       "<table border=\"1\" class=\"dataframe\">\n",
       "  <thead>\n",
       "    <tr style=\"text-align: right;\">\n",
       "      <th></th>\n",
       "      <th>id</th>\n",
       "      <th>facebook_id</th>\n",
       "      <th>page_name</th>\n",
       "      <th>page_type</th>\n",
       "    </tr>\n",
       "  </thead>\n",
       "  <tbody>\n",
       "    <tr>\n",
       "      <th>0</th>\n",
       "      <td>0</td>\n",
       "      <td>145647315578475</td>\n",
       "      <td>The Voice of China 中国好声音</td>\n",
       "      <td>tvshow</td>\n",
       "    </tr>\n",
       "    <tr>\n",
       "      <th>1</th>\n",
       "      <td>1</td>\n",
       "      <td>191483281412</td>\n",
       "      <td>U.S. Consulate General Mumbai</td>\n",
       "      <td>government</td>\n",
       "    </tr>\n",
       "    <tr>\n",
       "      <th>2</th>\n",
       "      <td>2</td>\n",
       "      <td>144761358898518</td>\n",
       "      <td>ESET</td>\n",
       "      <td>company</td>\n",
       "    </tr>\n",
       "    <tr>\n",
       "      <th>3</th>\n",
       "      <td>3</td>\n",
       "      <td>568700043198473</td>\n",
       "      <td>Consulate General of Switzerland in Montreal</td>\n",
       "      <td>government</td>\n",
       "    </tr>\n",
       "    <tr>\n",
       "      <th>4</th>\n",
       "      <td>4</td>\n",
       "      <td>1408935539376139</td>\n",
       "      <td>Mark Bailey MP - Labor for Miller</td>\n",
       "      <td>politician</td>\n",
       "    </tr>\n",
       "  </tbody>\n",
       "</table>\n",
       "</div>"
      ],
      "text/plain": [
       "   id       facebook_id                                     page_name  \\\n",
       "0   0   145647315578475                      The Voice of China 中国好声音   \n",
       "1   1      191483281412                 U.S. Consulate General Mumbai   \n",
       "2   2   144761358898518                                          ESET   \n",
       "3   3   568700043198473  Consulate General of Switzerland in Montreal   \n",
       "4   4  1408935539376139             Mark Bailey MP - Labor for Miller   \n",
       "\n",
       "    page_type  \n",
       "0      tvshow  \n",
       "1  government  \n",
       "2     company  \n",
       "3  government  \n",
       "4  politician  "
      ]
     },
     "execution_count": 4,
     "metadata": {},
     "output_type": "execute_result"
    }
   ],
   "source": [
    "nodes = pd.read_csv('facebook_large/musae_facebook_target.csv')\n",
    "print('shape:',nodes.shape)\n",
    "nodes.head()"
   ]
  },
  {
   "cell_type": "code",
   "execution_count": 5,
   "id": "23e183a3-9faa-4a2b-9759-4ad5fb7ed123",
   "metadata": {},
   "outputs": [
    {
     "data": {
      "text/plain": [
       "(22470, 4)"
      ]
     },
     "execution_count": 5,
     "metadata": {},
     "output_type": "execute_result"
    }
   ],
   "source": [
    "nodes.shape"
   ]
  },
  {
   "cell_type": "markdown",
   "id": "5a8c8b69",
   "metadata": {},
   "source": [
    "#### Label encoding on page type \n",
    "4 main classifications"
   ]
  },
  {
   "cell_type": "code",
   "execution_count": 6,
   "id": "0a149760",
   "metadata": {},
   "outputs": [
    {
     "data": {
      "text/plain": [
       "array(['tvshow', 'government', 'company', 'politician'], dtype=object)"
      ]
     },
     "execution_count": 6,
     "metadata": {},
     "output_type": "execute_result"
    }
   ],
   "source": [
    "nodes['page_type'].unique()"
   ]
  },
  {
   "cell_type": "code",
   "execution_count": 7,
   "id": "aaf3989b",
   "metadata": {},
   "outputs": [],
   "source": [
    "node_att = preprocessing.LabelEncoder()\n",
    "node_att.fit(['tvshow', 'government', 'company', 'politician'])\n",
    "nodes['label_class']=node_att.transform(nodes['page_type'])"
   ]
  },
  {
   "cell_type": "code",
   "execution_count": 8,
   "id": "72d3399d-fe62-464f-ba1e-15cb36d9858d",
   "metadata": {},
   "outputs": [
    {
     "data": {
      "text/plain": [
       "array([3, 1, 0, 2], dtype=int64)"
      ]
     },
     "execution_count": 8,
     "metadata": {},
     "output_type": "execute_result"
    }
   ],
   "source": [
    "nodes['label_class'].unique()"
   ]
  },
  {
   "cell_type": "code",
   "execution_count": 9,
   "id": "7ae814e8",
   "metadata": {},
   "outputs": [
    {
     "data": {
      "text/html": [
       "<div>\n",
       "<style scoped>\n",
       "    .dataframe tbody tr th:only-of-type {\n",
       "        vertical-align: middle;\n",
       "    }\n",
       "\n",
       "    .dataframe tbody tr th {\n",
       "        vertical-align: top;\n",
       "    }\n",
       "\n",
       "    .dataframe thead th {\n",
       "        text-align: right;\n",
       "    }\n",
       "</style>\n",
       "<table border=\"1\" class=\"dataframe\">\n",
       "  <thead>\n",
       "    <tr style=\"text-align: right;\">\n",
       "      <th></th>\n",
       "      <th>id</th>\n",
       "      <th>facebook_id</th>\n",
       "      <th>page_name</th>\n",
       "      <th>page_type</th>\n",
       "      <th>label_class</th>\n",
       "    </tr>\n",
       "  </thead>\n",
       "  <tbody>\n",
       "    <tr>\n",
       "      <th>0</th>\n",
       "      <td>0</td>\n",
       "      <td>145647315578475</td>\n",
       "      <td>The Voice of China 中国好声音</td>\n",
       "      <td>tvshow</td>\n",
       "      <td>3</td>\n",
       "    </tr>\n",
       "    <tr>\n",
       "      <th>1</th>\n",
       "      <td>1</td>\n",
       "      <td>191483281412</td>\n",
       "      <td>U.S. Consulate General Mumbai</td>\n",
       "      <td>government</td>\n",
       "      <td>1</td>\n",
       "    </tr>\n",
       "    <tr>\n",
       "      <th>2</th>\n",
       "      <td>2</td>\n",
       "      <td>144761358898518</td>\n",
       "      <td>ESET</td>\n",
       "      <td>company</td>\n",
       "      <td>0</td>\n",
       "    </tr>\n",
       "    <tr>\n",
       "      <th>3</th>\n",
       "      <td>3</td>\n",
       "      <td>568700043198473</td>\n",
       "      <td>Consulate General of Switzerland in Montreal</td>\n",
       "      <td>government</td>\n",
       "      <td>1</td>\n",
       "    </tr>\n",
       "    <tr>\n",
       "      <th>4</th>\n",
       "      <td>4</td>\n",
       "      <td>1408935539376139</td>\n",
       "      <td>Mark Bailey MP - Labor for Miller</td>\n",
       "      <td>politician</td>\n",
       "      <td>2</td>\n",
       "    </tr>\n",
       "  </tbody>\n",
       "</table>\n",
       "</div>"
      ],
      "text/plain": [
       "   id       facebook_id                                     page_name  \\\n",
       "0   0   145647315578475                      The Voice of China 中国好声音   \n",
       "1   1      191483281412                 U.S. Consulate General Mumbai   \n",
       "2   2   144761358898518                                          ESET   \n",
       "3   3   568700043198473  Consulate General of Switzerland in Montreal   \n",
       "4   4  1408935539376139             Mark Bailey MP - Labor for Miller   \n",
       "\n",
       "    page_type  label_class  \n",
       "0      tvshow            3  \n",
       "1  government            1  \n",
       "2     company            0  \n",
       "3  government            1  \n",
       "4  politician            2  "
      ]
     },
     "execution_count": 9,
     "metadata": {},
     "output_type": "execute_result"
    }
   ],
   "source": [
    "nodes.head()"
   ]
  },
  {
   "cell_type": "markdown",
   "id": "cc17c89b",
   "metadata": {},
   "source": [
    "## Load and explore graph"
   ]
  },
  {
   "cell_type": "code",
   "execution_count": 17,
   "id": "e22741ae",
   "metadata": {},
   "outputs": [],
   "source": [
    "def load_graph(nodes, edges): #generate Networkx graph object\n",
    "    # Networkx graph object\n",
    "    G = nx.from_pandas_edgelist(edges, 'id_1', 'id_2')\n",
    "    \n",
    "    # set node attributes ->page type \n",
    "    label_class = pd.Series(nodes.label_class, index=nodes.id).to_dict()\n",
    "    nx.set_node_attributes(G, values=label_class, name='label_class')\n",
    "    \n",
    "    # set node attributes ->page type \n",
    "    page_type = pd.Series(nodes.page_type, index=nodes.id).to_dict()\n",
    "    nx.set_node_attributes(G, values=page_type, name='page_type')\n",
    "    \n",
    "    # set node attributes ->node id\n",
    "    node_id = pd.Series(nodes.facebook_id, index=nodes.id).to_dict()\n",
    "    nx.set_node_attributes(G, values=node_id, name='facebook_id')\n",
    "    \n",
    "    return G"
   ]
  },
  {
   "cell_type": "code",
   "execution_count": 18,
   "id": "e07ef626-0dab-4237-8689-6ba015724727",
   "metadata": {},
   "outputs": [],
   "source": [
    "G = load_graph(nodes,edges) #networkx graph object "
   ]
  },
  {
   "cell_type": "code",
   "execution_count": 19,
   "id": "2c9360f7-c30e-4c64-ad0d-94e2676dba0b",
   "metadata": {},
   "outputs": [
    {
     "data": {
      "text/plain": [
       "{'label_class': 3, 'page_type': 'tvshow', 'facebook_id': 145647315578475}"
      ]
     },
     "execution_count": 19,
     "metadata": {},
     "output_type": "execute_result"
    }
   ],
   "source": [
    "G.nodes[0]"
   ]
  },
  {
   "cell_type": "code",
   "execution_count": 20,
   "id": "240bbc64-41cf-4bb5-b253-b5958a266745",
   "metadata": {},
   "outputs": [
    {
     "data": {
      "text/plain": [
       "{'label_class': 2, 'page_type': 'politician', 'facebook_id': 1408935539376139}"
      ]
     },
     "execution_count": 20,
     "metadata": {},
     "output_type": "execute_result"
    }
   ],
   "source": [
    "G.nodes[4]"
   ]
  },
  {
   "cell_type": "markdown",
   "id": "a4dacbf6-d113-41c1-a2d2-23de50bcd8ce",
   "metadata": {},
   "source": [
    "## Sample graph"
   ]
  },
  {
   "cell_type": "code",
   "execution_count": 21,
   "id": "cc64c862-43ed-42ff-a455-dea001f56b4f",
   "metadata": {},
   "outputs": [],
   "source": [
    "def sample_graph(G, num_samples, seed): #sampling \n",
    "    # randomly sample data \n",
    "    random.seed(seed) #set random state for next occurance of random elements\n",
    "    samples = random.sample(list(G.nodes), num_samples)\n",
    "    \n",
    "    # remove unsampled nodes\n",
    "    dump_nodes = []\n",
    "    for n in tqdm(G):\n",
    "        if n not in samples:\n",
    "            dump_nodes.append(n)       \n",
    "    G.remove_nodes_from(dump_nodes)\n",
    "    print(\"Number of sampled nodes:\", len(list(G.nodes)))\n",
    "\n",
    "    return G"
   ]
  },
  {
   "cell_type": "code",
   "execution_count": 22,
   "id": "6a7f8229-1fc4-489b-98c4-3ede8f230c41",
   "metadata": {},
   "outputs": [
    {
     "name": "stderr",
     "output_type": "stream",
     "text": [
      "100%|█████████████████████████████████████████████████████████████████████████| 22470/22470 [00:01<00:00, 18792.95it/s]\n"
     ]
    },
    {
     "name": "stdout",
     "output_type": "stream",
     "text": [
      "Number of sampled nodes: 1000\n"
     ]
    }
   ],
   "source": [
    "G = sample_graph(G, 1000, 42) "
   ]
  },
  {
   "cell_type": "code",
   "execution_count": 30,
   "id": "f972ad7f-fd5f-402c-9f35-19502d35ea0a",
   "metadata": {
    "tags": []
   },
   "outputs": [],
   "source": [
    "label = [G.nodes[node]['label_class'] for node in G.nodes]\n",
    "cmap = cm.get_cmap('viridis', max(label) + 1)"
   ]
  },
  {
   "cell_type": "code",
   "execution_count": 33,
   "id": "36f6be44-25b6-45fd-b44c-c74ce89a0196",
   "metadata": {},
   "outputs": [
    {
     "ename": "AttributeError",
     "evalue": "module 'matplotlib.cbook' has no attribute 'iterable'",
     "output_type": "error",
     "traceback": [
      "\u001b[1;31m---------------------------------------------------------------------------\u001b[0m",
      "\u001b[1;31mAttributeError\u001b[0m                            Traceback (most recent call last)",
      "\u001b[1;32m<ipython-input-33-658112e7dea4>\u001b[0m in \u001b[0;36m<module>\u001b[1;34m()\u001b[0m\n\u001b[0;32m      1\u001b[0m \u001b[0mpos\u001b[0m\u001b[1;33m=\u001b[0m\u001b[0mnx\u001b[0m\u001b[1;33m.\u001b[0m\u001b[0mspring_layout\u001b[0m\u001b[1;33m(\u001b[0m\u001b[0mG\u001b[0m\u001b[1;33m)\u001b[0m\u001b[1;33m\u001b[0m\u001b[0m\n\u001b[1;32m----> 2\u001b[1;33m \u001b[0mnx\u001b[0m\u001b[1;33m.\u001b[0m\u001b[0mdraw_networkx\u001b[0m\u001b[1;33m(\u001b[0m\u001b[0mG\u001b[0m\u001b[1;33m,\u001b[0m\u001b[0mpos\u001b[0m\u001b[1;33m=\u001b[0m\u001b[0mpos\u001b[0m\u001b[1;33m,\u001b[0m \u001b[0mcmap\u001b[0m\u001b[1;33m=\u001b[0m\u001b[0mcmap\u001b[0m\u001b[1;33m)\u001b[0m\u001b[1;33m\u001b[0m\u001b[0m\n\u001b[0m",
      "\u001b[1;32mC:\\Users\\tingy\\Anaconda2\\envs\\py36\\lib\\site-packages\\networkx\\drawing\\nx_pylab.py\u001b[0m in \u001b[0;36mdraw_networkx\u001b[1;34m(G, pos, arrows, with_labels, **kwds)\u001b[0m\n\u001b[0;32m    278\u001b[0m \u001b[1;33m\u001b[0m\u001b[0m\n\u001b[0;32m    279\u001b[0m     \u001b[0mnode_collection\u001b[0m \u001b[1;33m=\u001b[0m \u001b[0mdraw_networkx_nodes\u001b[0m\u001b[1;33m(\u001b[0m\u001b[0mG\u001b[0m\u001b[1;33m,\u001b[0m \u001b[0mpos\u001b[0m\u001b[1;33m,\u001b[0m \u001b[1;33m**\u001b[0m\u001b[0mkwds\u001b[0m\u001b[1;33m)\u001b[0m\u001b[1;33m\u001b[0m\u001b[0m\n\u001b[1;32m--> 280\u001b[1;33m     \u001b[0medge_collection\u001b[0m \u001b[1;33m=\u001b[0m \u001b[0mdraw_networkx_edges\u001b[0m\u001b[1;33m(\u001b[0m\u001b[0mG\u001b[0m\u001b[1;33m,\u001b[0m \u001b[0mpos\u001b[0m\u001b[1;33m,\u001b[0m \u001b[0marrows\u001b[0m\u001b[1;33m=\u001b[0m\u001b[0marrows\u001b[0m\u001b[1;33m,\u001b[0m \u001b[1;33m**\u001b[0m\u001b[0mkwds\u001b[0m\u001b[1;33m)\u001b[0m\u001b[1;33m\u001b[0m\u001b[0m\n\u001b[0m\u001b[0;32m    281\u001b[0m     \u001b[1;32mif\u001b[0m \u001b[0mwith_labels\u001b[0m\u001b[1;33m:\u001b[0m\u001b[1;33m\u001b[0m\u001b[0m\n\u001b[0;32m    282\u001b[0m         \u001b[0mdraw_networkx_labels\u001b[0m\u001b[1;33m(\u001b[0m\u001b[0mG\u001b[0m\u001b[1;33m,\u001b[0m \u001b[0mpos\u001b[0m\u001b[1;33m,\u001b[0m \u001b[1;33m**\u001b[0m\u001b[0mkwds\u001b[0m\u001b[1;33m)\u001b[0m\u001b[1;33m\u001b[0m\u001b[0m\n",
      "\u001b[1;32mC:\\Users\\tingy\\Anaconda2\\envs\\py36\\lib\\site-packages\\networkx\\drawing\\nx_pylab.py\u001b[0m in \u001b[0;36mdraw_networkx_edges\u001b[1;34m(G, pos, edgelist, width, edge_color, style, alpha, arrowstyle, arrowsize, edge_cmap, edge_vmin, edge_vmax, ax, arrows, label, node_size, nodelist, node_shape, connectionstyle, **kwds)\u001b[0m\n\u001b[0;32m    577\u001b[0m     \u001b[0medge_pos\u001b[0m \u001b[1;33m=\u001b[0m \u001b[0mnp\u001b[0m\u001b[1;33m.\u001b[0m\u001b[0masarray\u001b[0m\u001b[1;33m(\u001b[0m\u001b[1;33m[\u001b[0m\u001b[1;33m(\u001b[0m\u001b[0mpos\u001b[0m\u001b[1;33m[\u001b[0m\u001b[0me\u001b[0m\u001b[1;33m[\u001b[0m\u001b[1;36m0\u001b[0m\u001b[1;33m]\u001b[0m\u001b[1;33m]\u001b[0m\u001b[1;33m,\u001b[0m \u001b[0mpos\u001b[0m\u001b[1;33m[\u001b[0m\u001b[0me\u001b[0m\u001b[1;33m[\u001b[0m\u001b[1;36m1\u001b[0m\u001b[1;33m]\u001b[0m\u001b[1;33m]\u001b[0m\u001b[1;33m)\u001b[0m \u001b[1;32mfor\u001b[0m \u001b[0me\u001b[0m \u001b[1;32min\u001b[0m \u001b[0medgelist\u001b[0m\u001b[1;33m]\u001b[0m\u001b[1;33m)\u001b[0m\u001b[1;33m\u001b[0m\u001b[0m\n\u001b[0;32m    578\u001b[0m \u001b[1;33m\u001b[0m\u001b[0m\n\u001b[1;32m--> 579\u001b[1;33m     \u001b[1;32mif\u001b[0m \u001b[1;32mnot\u001b[0m \u001b[0mcb\u001b[0m\u001b[1;33m.\u001b[0m\u001b[0miterable\u001b[0m\u001b[1;33m(\u001b[0m\u001b[0mwidth\u001b[0m\u001b[1;33m)\u001b[0m\u001b[1;33m:\u001b[0m\u001b[1;33m\u001b[0m\u001b[0m\n\u001b[0m\u001b[0;32m    580\u001b[0m         \u001b[0mlw\u001b[0m \u001b[1;33m=\u001b[0m \u001b[1;33m(\u001b[0m\u001b[0mwidth\u001b[0m\u001b[1;33m,\u001b[0m\u001b[1;33m)\u001b[0m\u001b[1;33m\u001b[0m\u001b[0m\n\u001b[0;32m    581\u001b[0m     \u001b[1;32melse\u001b[0m\u001b[1;33m:\u001b[0m\u001b[1;33m\u001b[0m\u001b[0m\n",
      "\u001b[1;31mAttributeError\u001b[0m: module 'matplotlib.cbook' has no attribute 'iterable'"
     ]
    },
    {
     "data": {
      "image/png": "[encoded data removed]",
      "text/plain": [
       "<Figure size 432x288 with 1 Axes>"
      ]
     },
     "metadata": {},
     "output_type": "display_data"
    }
   ],
   "source": [
    "pos=nx.spring_layout(G)\n",
    "nx.draw_networkx(G,pos=pos, cmap=cmap)"
   ]
  },
  {
   "cell_type": "markdown",
   "id": "0f0333c9-2c48-487d-a88e-ce1f86b7add4",
   "metadata": {},
   "source": [
    "## Generate stellar graph"
   ]
  },
  {
   "cell_type": "code",
   "execution_count": null,
   "id": "1cf1242f-718d-4d8d-9b40-aeba26a36d25",
   "metadata": {},
   "outputs": [],
   "source": [
    "Stellar_G = StellarGraph.from_networkx(G) "
   ]
  },
  {
   "cell_type": "markdown",
   "id": "3445f302",
   "metadata": {},
   "source": [
    "## Node2Vec algorithm"
   ]
  },
  {
   "cell_type": "markdown",
   "id": "070ca509-7a3f-4ada-95c9-28eecd00171a",
   "metadata": {},
   "source": [
    "The Node2Vec algorithm is a 2-step representation learning algorithm. The two steps are:\n",
    "1. Use second-order random walks to generate sentences from a graph. A sentence is a list of node ids. The set of all sentences makes a **corpus**.\n",
    "\n",
    "2. The corpus is then used to learn an embedding vector for each node in the graph. Each node id is considered a unique word/token in a dictionary that has size equal to the number of nodes in the graph. The **Word2Vec** algorithm, is used for calculating the embedding vectors."
   ]
  },
  {
   "cell_type": "code",
   "execution_count": null,
   "id": "7673cd90-b468-4b01-a5c6-4e5853dbf7c0",
   "metadata": {},
   "outputs": [],
   "source": [
    "# load saved embeddings(.txt) as dict\n",
    "def load_embeddings(file_path):\n",
    "    embedding_dict = {}\n",
    "    first_line = True\n",
    "    with open(file_path) as f:\n",
    "        for line in f:\n",
    "            if first_line:\n",
    "                first_line = False\n",
    "                continue\n",
    "            vector = [float(i) for i in line.strip().split()]\n",
    "            embedding_dict[int(vector[0])] = vector[1:]\n",
    "        f.close()\n",
    "    return embedding_dict\n",
    "\n",
    "# two steps Node2Vec algorithm\n",
    "# also get to choose recalculating embeddings / use existing ones\n",
    "def calculate_embeddings(recalculate_embeddings, G, txt_embeddings_file_path):\n",
    "    if recalculate_embeddings==True: #calculate emebeddings, or else use existing ones\n",
    "        # 1. perform random walk to generate corpus \n",
    "        rw = BiasedRandomWalk(G)\n",
    "        walks = rw.run(\n",
    "            nodes=list(G.nodes()),  # root nodes\n",
    "            length=32,  # maximum length of a random walk\n",
    "            n=10,  # number of random walks per root node\n",
    "            p=0.5,  # Defines (unormalised) probability, 1/p, of returning to source node\n",
    "            q=2.0,  # Defines (unormalised) probability, 1/q, for moving away from source node\n",
    "            seed=42 # make random walk predictable\n",
    "        )\n",
    "        print(\"Number of random walks: {}\".format(len(walks)))\n",
    "        \n",
    "        # 2. perform Word2Vec to learn embedding vectors and save as .txt\n",
    "        str_walks = [[str(n) for n in walk] for walk in walks]\n",
    "        model = Word2Vec(str_walks, vector_size=128, window=5, \n",
    "                         min_count=0, sg=1, workers=2, epochs=1)\n",
    "        model.wv.save_word2vec_format(txt_embeddings_file_path) #save to path as .txt\n",
    "        \n",
    "    return load_embeddings(txt_embeddings_file_path)"
   ]
  },
  {
   "cell_type": "markdown",
   "id": "9997a246",
   "metadata": {},
   "source": [
    "## Classifier - logistic regressiond function\n",
    "during test rain can choose dict / node embeddings "
   ]
  },
  {
   "cell_type": "code",
   "execution_count": null,
   "id": "640d7ad5-4c2b-484e-976f-ffd3a8c022c9",
   "metadata": {},
   "outputs": [],
   "source": [
    "def split_data(G, embeddings):\n",
    "    X = []\n",
    "    y = []\n",
    "    for x in embeddings.keys():\n",
    "        X.append(embeddings[x]) #embeddings value of the key\n",
    "        y.append(G.nodes[x]['label_class']) #binary classifier \n",
    "\n",
    "    X_train, X_test, y_train, y_test = train_test_split(X, y, test_size=0.2)\n",
    "    return X_train, X_test, y_train, y_test\n",
    "\n",
    "\n",
    "def train_classifier(X_train, y_train):\n",
    "    clf = LogisticRegressionCV(\n",
    "        Cs=10, cv=10, scoring=\"accuracy\", verbose=False, max_iter=3000\n",
    "    )\n",
    "    clf.fit(X_train, y_train)\n",
    "    return clf\n",
    "\n",
    "\n",
    "def test_classifier(X_test, y_test, clf):\n",
    "    y_pred = clf.predict(X_test)\n",
    "    print(f\"Accuracy classification score: {accuracy_score(y_test, y_pred)}\")"
   ]
  },
  {
   "cell_type": "markdown",
   "id": "f27f0eb7",
   "metadata": {},
   "source": [
    "## Downstream tasks "
   ]
  },
  {
   "cell_type": "code",
   "execution_count": null,
   "id": "f0e4f0d9",
   "metadata": {},
   "outputs": [],
   "source": [
    "embeddings = calculate_embeddings(True, Stellar_G, 'embeddings.txt')\n",
    "#X_train, X_test, y_train, y_test = split_data(G, embeddings)\n",
    "#clf = train_classifier(X_train, y_train)\n",
    "#test_classifier(X_test, y_test, clf)\n"
   ]
  },
  {
   "cell_type": "code",
   "execution_count": null,
   "id": "1bfd1bc3-c760-4140-8ca9-18e3dab849ad",
   "metadata": {},
   "outputs": [],
   "source": [
    "len(embeddings.keys())"
   ]
  },
  {
   "cell_type": "code",
   "execution_count": null,
   "id": "a1bf5985-1da7-4d77-b9bd-27a21e6e6c3e",
   "metadata": {},
   "outputs": [],
   "source": [
    "len(list(G.nodes))"
   ]
  },
  {
   "cell_type": "markdown",
   "id": "6e26f3ba-1c1f-4fc2-a396-5fbb6f16b00b",
   "metadata": {},
   "source": [
    "## Visualize with networkx - community detection + color algorithm "
   ]
  },
  {
   "cell_type": "code",
   "execution_count": null,
   "id": "fb9a3f81-05e8-41ee-a371-59711cbc89c5",
   "metadata": {},
   "outputs": [],
   "source": []
  },
  {
   "cell_type": "code",
   "execution_count": null,
   "id": "f1e63dbb-f3d7-4a8c-a70d-24b7f98a4d27",
   "metadata": {},
   "outputs": [],
   "source": []
  }
 ],
 "metadata": {
  "kernelspec": {
   "display_name": "Python 3",
   "language": "python",
   "name": "python3"
  },
  "language_info": {
   "codemirror_mode": {
    "name": "ipython",
    "version": 3
   },
   "file_extension": ".py",
   "mimetype": "text/x-python",
   "name": "python",
   "nbconvert_exporter": "python",
   "pygments_lexer": "ipython3",
   "version": "3.6.5"
  }
 },
 "nbformat": 4,
 "nbformat_minor": 5
}
