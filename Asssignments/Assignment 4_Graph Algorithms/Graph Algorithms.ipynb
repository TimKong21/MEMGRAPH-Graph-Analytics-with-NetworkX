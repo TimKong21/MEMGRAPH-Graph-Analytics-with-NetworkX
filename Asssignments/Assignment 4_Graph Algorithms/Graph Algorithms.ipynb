{
 "cells": [
  {
   "cell_type": "markdown",
   "id": "321cc198-6356-4123-a481-f6d828d892fa",
   "metadata": {},
   "source": [
    "# Graph Algorithms"
   ]
  },
  {
   "cell_type": "markdown",
   "id": "97ca41a3-2888-4166-88a5-587a958f35e4",
   "metadata": {},
   "source": [
    "## Necessary modules"
   ]
  },
  {
   "cell_type": "code",
   "execution_count": 8,
   "id": "086cbbb4-f1c1-46b9-9994-4d736d8c2ea3",
   "metadata": {},
   "outputs": [],
   "source": [
    "import matplotlib.pyplot as plt\n",
    "import matplotlib.cm as cm\n",
    "\n",
    "import random\n",
    "import numpy as np\n",
    "\n",
    "import networkx as nx\n",
    "from networkx.algorithms.community.centrality import girvan_newman\n",
    "from community import community_louvain\n",
    "from sklearn import cluster"
   ]
  },
  {
   "cell_type": "markdown",
   "id": "9684ae2d-7510-422c-ac1d-ce25d335bc2f",
   "metadata": {},
   "source": [
    "## Data preparation and exploration "
   ]
  },
  {
   "cell_type": "code",
   "execution_count": 9,
   "id": "8a49424e-3a40-4a02-a7fd-30a628b1918b",
   "metadata": {},
   "outputs": [],
   "source": [
    " G= nx.read_edgelist('graph-assignment.txt', nodetype=str,\n",
    "                     data=[('weight', int)], create_using=nx.Graph())"
   ]
  },
  {
   "cell_type": "code",
   "execution_count": 10,
   "id": "9e47e8e0-4983-482c-940e-857219cf4e8b",
   "metadata": {},
   "outputs": [
    {
     "data": {
      "text/plain": [
       "NodeView(('0', '1', '8', '2', '6', '7', '3', '5', '4'))"
      ]
     },
     "execution_count": 10,
     "metadata": {},
     "output_type": "execute_result"
    }
   ],
   "source": [
    "G.nodes"
   ]
  },
  {
   "cell_type": "code",
   "execution_count": 11,
   "id": "f6e183e3-3b1a-4069-a6fe-409661315d8e",
   "metadata": {},
   "outputs": [
    {
     "data": {
      "text/plain": [
       "9"
      ]
     },
     "execution_count": 11,
     "metadata": {},
     "output_type": "execute_result"
    }
   ],
   "source": [
    "len(G.nodes)"
   ]
  },
  {
   "cell_type": "code",
   "execution_count": 12,
   "id": "47c37354-4818-4dfa-853a-8af1abd1280a",
   "metadata": {},
   "outputs": [
    {
     "name": "stdout",
     "output_type": "stream",
     "text": [
      "Edge : ('0', '1'), {'weight': 4}\n",
      "Edge : ('0', '8'), {'weight': 8}\n",
      "Edge : ('1', '8'), {'weight': 11}\n",
      "Edge : ('1', '2'), {'weight': 8}\n",
      "Edge : ('8', '6'), {'weight': 7}\n",
      "Edge : ('8', '7'), {'weight': 1}\n",
      "Edge : ('2', '3'), {'weight': 7}\n",
      "Edge : ('2', '5'), {'weight': 5}\n",
      "Edge : ('2', '6'), {'weight': 2}\n",
      "Edge : ('6', '7'), {'weight': 6}\n",
      "Edge : ('7', '5'), {'weight': 6}\n",
      "Edge : ('3', '4'), {'weight': 9}\n",
      "Edge : ('3', '5'), {'weight': 14}\n",
      "Edge : ('5', '4'), {'weight': 10}\n"
     ]
    }
   ],
   "source": [
    "for n, edge in enumerate(G.edges):\n",
    "    print(\"Edge : {0}, {1}\".format(edge, G.get_edge_data(*edge)))"
   ]
  },
  {
   "cell_type": "markdown",
   "id": "2aeafe9e-1e33-495f-bc81-3704bbae9e8a",
   "metadata": {},
   "source": [
    "### Set position of noeds"
   ]
  },
  {
   "cell_type": "code",
   "execution_count": 13,
   "id": "f0abc083-cb70-46cd-a5d3-9b2fea69392b",
   "metadata": {},
   "outputs": [],
   "source": [
    "pos = {'0':[-1,0], '1':[-0.5,0.5], '8':[-0.5,-0.5],\n",
    "       '2':[0,0.5], '6':[0,0], '7':[0,-0.5],\n",
    "       '3':[0.5,0.5], '4':[1,0], '5':[0.5,-0.5]}"
   ]
  },
  {
   "cell_type": "markdown",
   "id": "f0268a8d-4064-4748-bf6a-f80a330251d5",
   "metadata": {},
   "source": [
    "## Coloring algorithm \n",
    "No two adjacent nodes have same colors"
   ]
  },
  {
   "cell_type": "code",
   "execution_count": 14,
   "id": "659be693-608f-4d84-b559-9d00f83bd277",
   "metadata": {},
   "outputs": [
    {
     "data": {
      "image/png": "[encoded data removed]",
      "text/plain": [
       "<Figure size 432x288 with 1 Axes>"
      ]
     },
     "metadata": {},
     "output_type": "display_data"
    }
   ],
   "source": [
    "colors = [\n",
    "    \"blue\", \"gray\", \"pink\",\n",
    "    \"red\", \"orange\", \"purple\",\n",
    "    \"blue\", \"gray\", \"pink\",\n",
    "    \"snow\", \"wheat\", \"lime\",\n",
    "    \"crimson\", \"maroon\",]\n",
    "\n",
    "#return dict - keys:nodes , values:corrersponding colors\n",
    "d = nx.coloring.equitable_color(G, num_colors=10) \n",
    "\n",
    "node_colors = []\n",
    "for i in d.keys():\n",
    "    node_colors.append(colors[d[i]])\n",
    "\n",
    "nx.draw(G, pos, node_color=node_colors, with_labels=True)\n",
    "\n",
    "ax= plt.gca()\n",
    "ax.collections[0].set_edgecolor(\"#000000\") #set the black node border\n",
    "\n",
    "plt.show()"
   ]
  },
  {
   "cell_type": "markdown",
   "id": "80203cc9-a650-4050-acd9-9da1aaf272c0",
   "metadata": {},
   "source": [
    "## Louvain modularity algorithim"
   ]
  },
  {
   "cell_type": "code",
   "execution_count": 15,
   "id": "4199a6be-c1ff-4617-b936-6dab35f8385f",
   "metadata": {},
   "outputs": [
    {
     "data": {
      "text/plain": [
       "{'0': 1, '1': 1, '8': 1, '2': 2, '6': 0, '7': 0, '3': 2, '5': 2, '4': 2}"
      ]
     },
     "execution_count": 15,
     "metadata": {},
     "output_type": "execute_result"
    }
   ],
   "source": [
    "#Compute the partition of the graph nodes\n",
    "communities = community_louvain.best_partition(G) #return as dictionary \n",
    "communities #key:nodes, value: community/partition label"
   ]
  },
  {
   "cell_type": "code",
   "execution_count": 16,
   "id": "157853c1-e036-4fc5-a0b3-ac5c653d9b94",
   "metadata": {},
   "outputs": [
    {
     "name": "stdout",
     "output_type": "stream",
     "text": [
      "Unique community labels: {0, 1, 2}\n"
     ]
    },
    {
     "data": {
      "image/png": "[encoded data removed]",
      "text/plain": [
       "<Figure size 432x288 with 1 Axes>"
      ]
     },
     "metadata": {},
     "output_type": "display_data"
    }
   ],
   "source": [
    "print(\"Unique community labels:\",set(communities.values()))\n",
    "\n",
    "cmap = cm.get_cmap('viridis', max(communities.values()) + 1) #from community_louvain documentation\n",
    "\n",
    "nx.draw_networkx(G, pos, \n",
    "                 nodelist=communities.keys(), \n",
    "                 cmap=cmap,\n",
    "                 node_color=list(communities.values()), \n",
    "                 alpha=0.8, \n",
    "                 with_labels=True, \n",
    "                 labels=communities)\n",
    "\n",
    "ax= plt.gca()\n",
    "ax.collections[0].set_edgecolor(\"#000000\") #set the black node border\n",
    "\n",
    "plt.show()"
   ]
  },
  {
   "cell_type": "markdown",
   "id": "4ad532ca-7083-413e-aa5c-de6b0b929e33",
   "metadata": {},
   "source": [
    "## Girvan-Newman algorithm"
   ]
  },
  {
   "cell_type": "code",
   "execution_count": 17,
   "id": "b6e6a325-9f6b-442b-9d4d-855a0c9a9f65",
   "metadata": {},
   "outputs": [
    {
     "name": "stdout",
     "output_type": "stream",
     "text": [
      "({'6', '1', '0', '7', '8'}, {'2', '3', '4', '5'})\n",
      "({'1', '0'}, {'6', '8', '7'}, {'2', '3', '4', '5'})\n",
      "({'1', '0'}, {'6', '8', '7'}, {'2'}, {'3', '4', '5'})\n",
      "({'0'}, {'1'}, {'6', '8', '7'}, {'2'}, {'3', '4', '5'})\n",
      "({'0'}, {'1'}, {'8'}, {'2'}, {'6', '7'}, {'3', '4', '5'})\n",
      "({'0'}, {'1'}, {'8'}, {'2'}, {'6'}, {'7'}, {'3', '4', '5'})\n",
      "({'0'}, {'1'}, {'8'}, {'2'}, {'6'}, {'7'}, {'3'}, {'4', '5'})\n",
      "({'0'}, {'1'}, {'8'}, {'2'}, {'6'}, {'7'}, {'3'}, {'5'}, {'4'})\n"
     ]
    }
   ],
   "source": [
    "#find communities in a graph at different level of algorithm\n",
    "# iteratively removing the graph’s edges \n",
    "# based on the edge betweenness centrality value\n",
    "communities = girvan_newman(G) \n",
    "for community in communities: \n",
    "    print(community)"
   ]
  },
  {
   "cell_type": "code",
   "execution_count": 18,
   "id": "86d635dc-4dff-4410-a304-8c8f9428e06e",
   "metadata": {},
   "outputs": [
    {
     "data": {
      "text/plain": [
       "[['6', '1', '0', '7', '8'], ['2', '3', '4', '5']]"
      ]
     },
     "execution_count": 18,
     "metadata": {},
     "output_type": "execute_result"
    }
   ],
   "source": [
    "communities = girvan_newman(G) \n",
    "node_groups = []\n",
    "# Get communities in 1st tuple  \n",
    "for community in next(communities):\n",
    "    node_groups.append(list(community)) # append the communities in 1st tuple\n",
    "    \n",
    "node_groups #First level"
   ]
  },
  {
   "cell_type": "code",
   "execution_count": 19,
   "id": "2af9033f-8ecd-4b7b-8e39-eaf0031b07e7",
   "metadata": {},
   "outputs": [
    {
     "name": "stdout",
     "output_type": "stream",
     "text": [
      "Unique community labels: {0, 1}\n"
     ]
    },
    {
     "data": {
      "image/png": "[encoded data removed]",
      "text/plain": [
       "<Figure size 432x288 with 1 Axes>"
      ]
     },
     "metadata": {},
     "output_type": "display_data"
    }
   ],
   "source": [
    "# get color of each community - tuples of rgb \n",
    "# one community one color \n",
    "def get_color(i, r_off=1, g_off=1, b_off=1):\n",
    "    n = 16\n",
    "    low, high = 0.1, 0.9\n",
    "    span = high - low\n",
    "    r = low + span * (((i + r_off) * 4) % n) / (n-1)\n",
    "    g = low + span * (((i + g_off) * 8) % n) / (n-1)\n",
    "    b = low + span * (((i + b_off) * 12) % n) / (n-1)\n",
    "    return (r, g, b)\n",
    "  \n",
    "node_colors = []\n",
    "community_label={}\n",
    "for ng in range(len(node_groups)): #`ng` will return number of communities \n",
    "    for node in G:\n",
    "        if node in node_groups[ng]:\n",
    "            node_colors.append(get_color(ng))  \n",
    "            community_label[node] = ng\n",
    "print(\"Unique community labels:\", set(community_label.values()))         \n",
    "\n",
    "nx.draw_networkx(G, pos, \n",
    "                 node_color=node_colors, \n",
    "                 alpha=0.8, \n",
    "                 with_labels=True, \n",
    "                 labels=community_label)\n",
    "ax= plt.gca()\n",
    "ax.collections[0].set_edgecolor(\"#000000\") #set the black node border\n",
    "\n",
    "plt.show()"
   ]
  },
  {
   "cell_type": "markdown",
   "id": "3a65f27b-28e3-4ab4-a7a4-cbba2aeaa722",
   "metadata": {},
   "source": [
    "## K-means clustering "
   ]
  },
  {
   "cell_type": "code",
   "execution_count": 20,
   "id": "d5ebedc1-5c94-49c7-8ea0-f21bc382ef39",
   "metadata": {},
   "outputs": [
    {
     "name": "stdout",
     "output_type": "stream",
     "text": [
      "Edge matrix (9, 9):\n",
      "[[1 1 0 0 0 0 0 0 1]\n",
      " [1 1 1 0 0 0 0 0 1]\n",
      " [0 1 1 1 0 1 1 0 0]\n",
      " [0 0 1 1 1 1 0 0 0]\n",
      " [0 0 0 1 1 1 0 0 0]\n",
      " [0 0 1 1 1 1 0 1 0]\n",
      " [0 0 1 0 0 0 1 1 1]\n",
      " [0 0 0 0 0 1 1 1 1]\n",
      " [1 1 0 0 0 0 1 1 1]]\n"
     ]
    }
   ],
   "source": [
    "def graph_to_edge_matrix(G):\n",
    "    # Initialize edge matrix with zeros\n",
    "    edge_matrix = np.zeros((len(G), len(G)), dtype=int)\n",
    "\n",
    "    # Loop to set 0 or 1 (diagonal elements are set to 1)\n",
    "    for node in G:\n",
    "        for neighbor in G.neighbors(node):\n",
    "            edge_matrix[int(node)][int(neighbor)] = 1 #put a 1 for the neighbors \n",
    "        edge_matrix[int(node)][int(node)] = 1 #put a 1 for itself (diagonal 1's)\n",
    "\n",
    "    return edge_matrix\n",
    "\n",
    "# Convert a networkx graph into an edge matrix\n",
    "edge_matrix = graph_to_edge_matrix(G)\n",
    "print(\"Edge matrix {}:\".format(edge_matrix.shape))\n",
    "print(edge_matrix)\n",
    "\n",
    "# K-means clustering - this one is not very suited for membank dataset\n",
    "model = cluster.KMeans(n_clusters=2, n_init=1000)\n",
    "model.fit(edge_matrix)\n",
    "clustering_labels = list(model.labels_) #0s and 1s (two clusters)\n",
    "\n",
    "clustering_label_dict={}\n",
    "for node, label in zip(G.nodes, clustering_labels):\n",
    "    clustering_label_dict[node]=label"
   ]
  },
  {
   "cell_type": "code",
   "execution_count": 21,
   "id": "04697ed6-afde-4fcd-af7e-ac61ea45c783",
   "metadata": {},
   "outputs": [
    {
     "name": "stdout",
     "output_type": "stream",
     "text": [
      "unique clustering label: {0, 1}\n"
     ]
    },
    {
     "data": {
      "image/png": "[encoded data removed]",
      "text/plain": [
       "<Figure size 432x288 with 1 Axes>"
      ]
     },
     "metadata": {},
     "output_type": "display_data"
    }
   ],
   "source": [
    "print(\"unique clustering label:\", set(clustering_labels))\n",
    "\n",
    "cmap = cm.get_cmap('viridis', max(clustering_labels) + 1)\n",
    "\n",
    "nx.draw_networkx(G, pos, \n",
    "                 cmap=cmap,\n",
    "                 node_color=clustering_labels, \n",
    "                 alpha=0.8, \n",
    "                 with_labels=True, \n",
    "                 labels=clustering_label_dict)\n",
    "\n",
    "ax= plt.gca()\n",
    "ax.collections[0].set_edgecolor(\"#000000\") #set the black node border\n",
    "\n",
    "plt.show()"
   ]
  }
 ],
 "metadata": {
  "kernelspec": {
   "display_name": "Python 3",
   "language": "python",
   "name": "python3"
  },
  "language_info": {
   "codemirror_mode": {
    "name": "ipython",
    "version": 3
   },
   "file_extension": ".py",
   "mimetype": "text/x-python",
   "name": "python",
   "nbconvert_exporter": "python",
   "pygments_lexer": "ipython3",
   "version": "3.9.5"
  }
 },
 "nbformat": 4,
 "nbformat_minor": 5
}
